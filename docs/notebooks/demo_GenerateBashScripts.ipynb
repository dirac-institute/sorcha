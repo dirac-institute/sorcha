{
 "cells": [
  {
   "cell_type": "markdown",
   "id": "62e7dabd-d86e-420d-b76a-4b08f98f137a",
   "metadata": {},
   "source": [
    "## Generating multiple Bash scripts"
   ]
  },
  {
   "cell_type": "markdown",
   "id": "448e076e-fd73-42f2-967d-a6e689fd91a5",
   "metadata": {},
   "source": [
    "This notebook is an example of a notebook which generates either a single or multiple bash scripts to run Sorcha. If you want to use this, **you will need to heavily edit this to suit your own particular setup.**\n",
    "\n",
    "This notebook does assume that you have a local copy of the input files on the machine where you are running this notebook. If you don't, you'll have to edit this a bit more.\n",
    "\n",
    "In the case presented below, there are 16 folders each containing ~100 sets of input files for Sorcha. An example of a folder layout and file/folder naming system is shown below.\n",
    "\n",
    "![alternative text](example_file_structure.png)"
   ]
  },
  {
   "cell_type": "code",
   "execution_count": null,
   "id": "9bc4271b-bd28-432c-8584-1f837b8c9fb9",
   "metadata": {},
   "outputs": [],
   "source": [
    "import glob\n",
    "import os"
   ]
  },
  {
   "cell_type": "markdown",
   "id": "4ce350be-c598-4083-8df4-5cad01979771",
   "metadata": {},
   "source": [
    "First get sorted lists of all of the orbit and physical parameters files."
   ]
  },
  {
   "cell_type": "code",
   "execution_count": null,
   "id": "e07dd90b-8ffc-4d1e-91e9-d9627f871073",
   "metadata": {},
   "outputs": [],
   "source": [
    "orbits_all = glob.glob('./*/*orbit.s3m')"
   ]
  },
  {
   "cell_type": "code",
   "execution_count": null,
   "id": "8a6adbf6-edf1-4d8e-88a1-216e50b46d78",
   "metadata": {},
   "outputs": [],
   "source": [
    "orbits_all.sort()"
   ]
  },
  {
   "cell_type": "code",
   "execution_count": null,
   "id": "3cfbe202-1564-4a34-b095-a55a4462203c",
   "metadata": {},
   "outputs": [],
   "source": [
    "len(orbits_all)"
   ]
  },
  {
   "cell_type": "code",
   "execution_count": null,
   "id": "aafeda56-6690-44e8-9bf4-fee3edb3ea64",
   "metadata": {},
   "outputs": [],
   "source": [
    "params_all = glob.glob('./*/*physical.s3m')"
   ]
  },
  {
   "cell_type": "code",
   "execution_count": null,
   "id": "b4776767-df45-4877-9962-88c46307fd31",
   "metadata": {},
   "outputs": [],
   "source": [
    "params_all.sort()"
   ]
  },
  {
   "cell_type": "code",
   "execution_count": null,
   "id": "7c3b6111-ad70-41dc-97fc-473105af10a7",
   "metadata": {},
   "outputs": [],
   "source": [
    "len(params_all)"
   ]
  },
  {
   "cell_type": "markdown",
   "id": "cc41c50a-835d-4497-b75c-d6d21caaa337",
   "metadata": {},
   "source": [
    "In this example, we are running on a workstation with 32 cores, so:"
   ]
  },
  {
   "cell_type": "code",
   "execution_count": null,
   "id": "c6d7e713-45d2-4931-82cb-aea9d234714e",
   "metadata": {},
   "outputs": [],
   "source": [
    "1572/32"
   ]
  },
  {
   "cell_type": "markdown",
   "id": "d557d4f3-f027-49af-87f6-7ef1ea6554c4",
   "metadata": {},
   "source": [
    "We need fifty runs across 32 cores. So we can set up a script to run on one core that contains fifty **consecutive** Sorcha runs, each overwriting the same ephemeris file. We can define our Sorcha input/outputs like so:"
   ]
  },
  {
   "cell_type": "code",
   "execution_count": null,
   "id": "051d93ec-beb8-48dc-ad8e-a637f38c07fb",
   "metadata": {},
   "outputs": [],
   "source": [
    "script_filepath = './sorcha_runscript.sh'\n",
    "config_filepath = './config_file.ini'\n",
    "pointing_filepath = './baseline_v3.0_10yrs.db'\n",
    "ephemeris_filepath = './ephemeris_file_core_1.csv'\n",
    "output_filepath = './outputs/'\n",
    "cache_filepath = './sorcha_cache/'"
   ]
  },
  {
   "cell_type": "markdown",
   "id": "de7fda7b-38b4-461b-92b2-9c491c8a5266",
   "metadata": {},
   "source": [
    "The below will create this single runscript."
   ]
  },
  {
   "cell_type": "code",
   "execution_count": null,
   "id": "b755ce57-2d6b-446b-9689-47b35f4bd54d",
   "metadata": {},
   "outputs": [],
   "source": [
    "with open(script_filepath, \"a\") as the_file:\n",
    "        the_file.write(\"#!/bin/bash\\n\")\n",
    "\n",
    "for orbit_file in orbits_all[:50]:\n",
    "\n",
    "    stem_filepath = orbit_file.split('_')[0]\n",
    "    stem_identifier = orbit_file.split('_')[1]\n",
    "\n",
    "    physical_file = '_'.join([stem_filepath, stem_identifier, 'physical.s3m'])\n",
    "\n",
    "    output_file = '_'.join([stem_filepath.split('/')[-1], stem_identifier, 'output.csv'])\n",
    "    \n",
    "    sorcha_command = ('sorcha -c '\n",
    "        + config_filepath\n",
    "        + ' -p '\n",
    "        + physical_file\n",
    "        + ' -ob '\n",
    "        + orbit_file\n",
    "        + ' -e '\n",
    "        + pointing_filepath\n",
    "        + ' -o '\n",
    "        + output_filepath\n",
    "        + ' -t '\n",
    "        + output_file\n",
    "        + '-ar'\n",
    "        + cache_filepath)\n",
    "\n",
    "    with open(script_filepath, \"a\") as the_file:\n",
    "        the_file.write(sorcha_command + \" \\n\")"
   ]
  },
  {
   "cell_type": "markdown",
   "id": "4eb030db-7083-49ed-8276-eea6a0f4b7bd",
   "metadata": {},
   "source": [
    "To generate all 32 runscripts, one for each core, run this (making sure to change script_filepath)."
   ]
  },
  {
   "cell_type": "code",
   "execution_count": null,
   "id": "e483cf31-ad2a-41ac-a0f1-6e4fda3f5d51",
   "metadata": {},
   "outputs": [],
   "source": [
    "for i in range(0, 33):\n",
    "\n",
    "    # CHANGE THESE IF YOU WANT THEM TO BE DIFFERENT. \n",
    "    # The other locations (pointing database, config filename) will be pulled from previous cell.\n",
    "    script_filepath = './sorcha_DP03_runscript_'+str(i)+'.sh'\n",
    "\n",
    "    with open(script_filepath, \"a\") as the_file:\n",
    "        the_file.write(\"#!/bin/bash\\n\")\n",
    "    \n",
    "    for orbit_file in orbits_all[i*50:(i*50)+50]:\n",
    "    \n",
    "        stem_filepath = orbit_file.split('_')[0]\n",
    "        stem_identifier = orbit_file.split('_')[1]\n",
    "    \n",
    "        physical_file = '_'.join([stem_filepath, stem_identifier, 'physical.s3m'])\n",
    "    \n",
    "        output_file = '_'.join([stem_filepath.split('/')[-1], stem_identifier, 'output.csv'])\n",
    "        \n",
    "        sorcha_command = ('sorcha -c '\n",
    "            + config_filepath\n",
    "            + ' -p '\n",
    "            + physical_file\n",
    "            + ' -ob '\n",
    "            + orbit_file\n",
    "            + ' -e '\n",
    "            + pointing_filepath\n",
    "            + ' -o '\n",
    "            + output_filepath\n",
    "            + ' -t '\n",
    "            + output_file        \n",
    "            + '-ar'\n",
    "            + cache_filepath)\n",
    "    \n",
    "        with open(script_filepath, \"a\") as the_file:\n",
    "            the_file.write(sorcha_command + \" \\n\")\n"
   ]
  }
 ],
 "metadata": {
  "kernelspec": {
   "display_name": "Python 3 (ipykernel)",
   "language": "python",
   "name": "python3"
  },
  "language_info": {
   "codemirror_mode": {
    "name": "ipython",
    "version": 3
   },
   "file_extension": ".py",
   "mimetype": "text/x-python",
   "name": "python",
   "nbconvert_exporter": "python",
   "pygments_lexer": "ipython3",
   "version": "3.10.13"
  }
 },
 "nbformat": 4,
 "nbformat_minor": 5
}

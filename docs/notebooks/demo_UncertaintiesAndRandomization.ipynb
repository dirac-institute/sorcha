{
 "cells": [
  {
   "cell_type": "markdown",
   "metadata": {},
   "source": [
    "# Uncertainties and Randomization Demo"
   ]
  },
  {
   "cell_type": "code",
   "execution_count": null,
   "metadata": {},
   "outputs": [],
   "source": [
    "from sorcha.modules.PPAddUncertainties import addUncertainties\n",
    "from sorcha.modules.PPRandomizeMeasurements import randomizeAstrometry\n",
    "from sorcha.modules.PPModuleRNG import PerModuleRNG"
   ]
  },
  {
   "cell_type": "code",
   "execution_count": null,
   "metadata": {},
   "outputs": [],
   "source": [
    "import numpy as np\n",
    "import pandas as pd\n",
    "import matplotlib.pyplot as plt\n",
    "from astropy.coordinates import SkyCoord"
   ]
  },
  {
   "cell_type": "markdown",
   "metadata": {},
   "source": [
    "This notebook demonstrates the uncertainties calculation and the randomisation of object position and magnitude based on the calculated uncertainties.\n",
    "\n",
    "First we create the data. The expected LSST limiting magnitude for a single exposure in the g-band is 25 - we will extend our magnitude range to 30 for demonstrative purposes. The objects have identical position, velocity, seeing and limiting magnitude at the source position: uncertainties will thus depend on magnitude alone."
   ]
  },
  {
   "cell_type": "code",
   "execution_count": null,
   "metadata": {},
   "outputs": [],
   "source": [
    "obj_ids = np.arange(0, 1000)\n",
    "obj_mags = np.linspace(15, 30, 1000)\n",
    "psf_mags = obj_mags + 0.01\n",
    "sig_limit = np.ones(len(obj_ids)) + 23.\n",
    "seeing = np.ones(len(obj_ids))\n",
    "astRArate = np.ones(len(obj_ids)) + 0.03\n",
    "astDecrate = np.ones(len(obj_ids)) - 0.01\n",
    "astRA = np.ones(len(obj_ids)) + 260.\n",
    "astDec = np.ones(len(obj_ids)) -5."
   ]
  },
  {
   "cell_type": "code",
   "execution_count": null,
   "metadata": {},
   "outputs": [],
   "source": [
    "observations = pd.DataFrame({'ObjID': obj_ids,\n",
    "                             'TrailedSourceMag': obj_mags,\n",
    "                             'PSFMag': psf_mags,\n",
    "                             'fiveSigmaDepthAtSource': sig_limit,\n",
    "                             'seeingFwhmGeom': seeing,\n",
    "                             'AstRARate(deg/day)': astRArate,\n",
    "                             'AstDecRate(deg/day)': astDecrate,\n",
    "                             'AstRA(deg)': astRA,\n",
    "                             'AstDec(deg)': astDec})"
   ]
  },
  {
   "cell_type": "code",
   "execution_count": null,
   "metadata": {},
   "outputs": [],
   "source": [
    "observations.columns"
   ]
  },
  {
   "cell_type": "markdown",
   "metadata": {},
   "source": [
    "As can be seen from the columns, both TrailedSourceMag (the magnitude of the source including any trailing) and PSFMag (the magnitude of the object within the PSF-fitting kernel) are included here. The code will calculate the uncertainties for each one."
   ]
  },
  {
   "cell_type": "code",
   "execution_count": null,
   "metadata": {},
   "outputs": [],
   "source": [
    "configs = {'trailing_losses_on':True, 'default_SNR_cut': False}\n",
    "rng = PerModuleRNG(2012)"
   ]
  },
  {
   "cell_type": "code",
   "execution_count": null,
   "metadata": {},
   "outputs": [],
   "source": [
    "obs_uncert = addUncertainties(observations, configs, rng)"
   ]
  },
  {
   "cell_type": "code",
   "execution_count": null,
   "metadata": {},
   "outputs": [],
   "source": [
    "obs_uncert.columns"
   ]
  },
  {
   "cell_type": "code",
   "execution_count": null,
   "metadata": {},
   "outputs": [],
   "source": [
    "obs_uncert"
   ]
  },
  {
   "cell_type": "markdown",
   "metadata": {},
   "source": [
    "As can be seen from the above, we have several new columns:\n",
    "\n",
    "**observedTrailedSourceMag/observedPSFMag:** a randomised magnitude as 'observed' by the telescope, based on the 'true' magnitude and its calculated uncertainty\n",
    "\n",
    "**PhotometricSigmaTrailedSource(mag)/PhotometricSigmaPSF(mag):** the uncertainty on the magnitude measurement\n",
    "\n",
    "**AstrometricSigma(deg):** the uncertainty on the object position\n",
    "\n",
    "**SNR:** the signal-to-noise ratio.\n",
    "\n",
    "Let's take a look at these, starting with the SNR. For all plots, the single-exposure limiting magnitude in g-band (25) is marked."
   ]
  },
  {
   "cell_type": "code",
   "execution_count": null,
   "metadata": {},
   "outputs": [],
   "source": [
    "fig, ax = plt.subplots(1)\n",
    "ax.plot(obs_uncert['TrailedSourceMag'].values, obs_uncert['SNR'].values, linestyle='', marker='.', color='rebeccapurple')\n",
    "ax.axvline(25, color='black', linestyle='--')\n",
    "ax.set_xlabel('magnitude')\n",
    "ax.set_ylabel('SNR')"
   ]
  },
  {
   "cell_type": "markdown",
   "metadata": {},
   "source": [
    "The photometric uncertainty for the trailed source and PSF magnitudes:"
   ]
  },
  {
   "cell_type": "code",
   "execution_count": null,
   "metadata": {},
   "outputs": [],
   "source": [
    "fig, ax = plt.subplots(1, 2, figsize=(12, 5))\n",
    "ax[0].plot(obs_uncert['TrailedSourceMag'].values, obs_uncert['PhotometricSigmaTrailedSource(mag)'].values, linestyle='', marker='.', color='thistle')\n",
    "ax[0].set_xlabel('trailed source magnitude')\n",
    "ax[0].set_ylabel('trailed source magnitude uncertainty (mag)')\n",
    "ax[0].axvline(25, color='black', linestyle='--')\n",
    "ax[1].plot(obs_uncert['PSFMag'].values, obs_uncert['PhotometricSigmaPSF(mag)'].values, linestyle='', marker='.', color='thistle')\n",
    "ax[1].set_xlabel('PSF magnitude')\n",
    "ax[1].set_ylabel('PSF magnitude uncertainty (mag)')\n",
    "ax[1].axvline(25, color='black', linestyle='--')"
   ]
  },
  {
   "cell_type": "markdown",
   "metadata": {},
   "source": [
    "Astrometric uncertainty:"
   ]
  },
  {
   "cell_type": "code",
   "execution_count": null,
   "metadata": {},
   "outputs": [],
   "source": [
    "fig, ax = plt.subplots(1)\n",
    "ax.plot(obs_uncert['TrailedSourceMag'].values, obs_uncert['AstrometricSigma(deg)'].values, linestyle='', marker='.', color='orchid')\n",
    "ax.axvline(25, color='black', linestyle='--')\n",
    "ax.set_xlabel('trailed source magnitude')\n",
    "ax.set_ylabel('astrometric uncertainty (deg)')"
   ]
  },
  {
   "cell_type": "markdown",
   "metadata": {},
   "source": [
    "Next we look at the randomisation of the magnitude based on the uncertainties, for both trailed source and PSF magnitudes. Note that for large magnitudes, and thus large photometric uncertainties, the randomisation leads to very large shifts in the magnitude. However, this only occurs for objects fainter than LSST's single exposure limiting magnitude - the SNR of these objects is so low that by default, SSPP will remove them from contention."
   ]
  },
  {
   "cell_type": "code",
   "execution_count": null,
   "metadata": {},
   "outputs": [],
   "source": [
    "fig, ax = plt.subplots(1, 2, figsize=(12, 5))\n",
    "ax[0].plot(obs_uncert['TrailedSourceMag'].values, obs_uncert['observedTrailedSourceMag'].values, linestyle=\"\", marker=\"x\", color='mediumpurple')\n",
    "ax[0].set_xlabel('trailed source magnitude before randomisation')\n",
    "ax[0].set_ylabel('trailed source magnitude after randomisation')\n",
    "ax[0].axvline(25, color='black', linestyle='--')\n",
    "ax[1].plot(obs_uncert['PSFMag'].values, obs_uncert['observedPSFMag'].values, linestyle=\"\", marker=\"x\", color='mediumpurple')\n",
    "ax[1].set_xlabel('trailed source magnitude before randomisation')\n",
    "ax[1].set_ylabel('trailed source magnitude after randomisation')\n",
    "ax[1].axvline(25, color='black', linestyle='--')"
   ]
  },
  {
   "cell_type": "markdown",
   "metadata": {},
   "source": [
    "A separate function then randomises the object position based on its astrometric uncertainty. We will recreate the data to have the same magnitude, but vary RA and Dec."
   ]
  },
  {
   "cell_type": "code",
   "execution_count": null,
   "metadata": {},
   "outputs": [],
   "source": [
    "obj_ids = np.arange(0, 1000)\n",
    "obj_mags = np.ones(len(obj_ids)) + 21.\n",
    "psf_mags = obj_mags + 0.01\n",
    "sig_limit = np.ones(len(obj_ids)) + 23.\n",
    "seeing = np.ones(len(obj_ids))\n",
    "astRArate = np.ones(len(obj_ids)) + 0.03\n",
    "astDecrate = np.ones(len(obj_ids)) - 0.01\n",
    "astRA = np.linspace(0, 360, 1000)\n",
    "astDec = np.linspace(-90, 0, 1000)"
   ]
  },
  {
   "cell_type": "code",
   "execution_count": null,
   "metadata": {},
   "outputs": [],
   "source": [
    "observations = pd.DataFrame({'ObjID': obj_ids,\n",
    "                             'TrailedSourceMag': obj_mags,\n",
    "                             'PSFMag': psf_mags,\n",
    "                             'fiveSigmaDepthAtSource': sig_limit,\n",
    "                             'seeingFwhmGeom': seeing,\n",
    "                             'AstRARate(deg/day)': astRArate,\n",
    "                             'AstDecRate(deg/day)': astDecrate,\n",
    "                             'AstRA(deg)': astRA,\n",
    "                             'AstDec(deg)': astDec})"
   ]
  },
  {
   "cell_type": "code",
   "execution_count": null,
   "metadata": {},
   "outputs": [],
   "source": [
    "observations = addUncertainties(observations, configs, rng)"
   ]
  },
  {
   "cell_type": "code",
   "execution_count": null,
   "metadata": {},
   "outputs": [],
   "source": [
    "observations['AstRATrue(deg)'] = observations['AstRA(deg)']\n",
    "observations['AstDecTrue(deg)'] = observations['AstDec(deg)']\n",
    "observations['AstRA(deg)'], observations['AstDec(deg)'] = randomizeAstrometry(observations, rng, sigName='AstrometricSigma(deg)', sigUnits='deg')"
   ]
  },
  {
   "cell_type": "code",
   "execution_count": null,
   "metadata": {},
   "outputs": [],
   "source": [
    "true_coord = SkyCoord(ra=observations['AstRATrue(deg)'].values, dec=observations['AstDecTrue(deg)'].values, unit=\"deg\")\n",
    "random_coord = SkyCoord(ra=observations['AstRA(deg)'].values, dec=observations['AstDec(deg)'].values, unit=\"deg\")\n",
    "\n",
    "separation = true_coord.separation(random_coord).mas"
   ]
  },
  {
   "cell_type": "code",
   "execution_count": null,
   "metadata": {},
   "outputs": [],
   "source": [
    "fig, ax = plt.subplots(1)\n",
    "ax.hist(separation, 100, color='turquoise')\n",
    "ax.set_ylabel('frequency')\n",
    "ax.set_xlabel('difference between true and randomised position (mas)')"
   ]
  }
 ],
 "metadata": {
  "kernelspec": {
   "display_name": "Python 3 (ipykernel)",
   "language": "python",
   "name": "python3"
  },
  "language_info": {
   "codemirror_mode": {
    "name": "ipython",
    "version": 3
   },
   "file_extension": ".py",
   "mimetype": "text/x-python",
   "name": "python",
   "nbconvert_exporter": "python",
   "pygments_lexer": "ipython3",
   "version": "3.10.12"
  }
 },
 "nbformat": 4,
 "nbformat_minor": 4
}

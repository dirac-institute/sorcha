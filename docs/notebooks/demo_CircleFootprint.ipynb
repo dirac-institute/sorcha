{
 "cells": [
  {
   "cell_type": "markdown",
   "id": "4ad72e3e",
   "metadata": {},
   "source": [
    "# Circle Footprint Filter Demo\n",
    "\n",
    "A demonstration validating the PPCircleFootprint filter."
   ]
  },
  {
   "cell_type": "code",
   "execution_count": null,
   "id": "8e62b6c1",
   "metadata": {},
   "outputs": [],
   "source": [
    "import pandas as pd\n",
    "import sqlite3 as sql\n",
    "import matplotlib.pyplot as plt\n",
    "from astropy.coordinates import SkyCoord"
   ]
  },
  {
   "cell_type": "code",
   "execution_count": null,
   "id": "ec46cedd",
   "metadata": {},
   "outputs": [],
   "source": [
    "from sorcha.modules.PPApplyFOVFilter import PPCircleFootprint, PPGetSeparation"
   ]
  },
  {
   "cell_type": "markdown",
   "id": "85ea31b0",
   "metadata": {},
   "source": [
    "We begin by loading in a set of randomised artificial observations which were all generated to lie on the same field, within 2.1 degrees of field centre."
   ]
  },
  {
   "cell_type": "code",
   "execution_count": null,
   "id": "a6b246a2",
   "metadata": {},
   "outputs": [],
   "source": [
    "def get_sql_data(database, rows_start, nrows):\n",
    "    \n",
    "    con = sql.connect(database)\n",
    "    observations = pd.read_sql(\"\"\"SELECT * FROM observations LIMIT \"\"\" + str(rows_start) + ',' + str(nrows), con)\n",
    "    \n",
    "    return observations"
   ]
  },
  {
   "cell_type": "code",
   "execution_count": null,
   "id": "fe02ee59",
   "metadata": {},
   "outputs": [],
   "source": [
    "def get_separation(obj_RA, obj_Dec, cen_RA, cen_Dec):\n",
    "    \n",
    "    obj_coord = SkyCoord(ra=obj_RA, dec=obj_Dec, unit=\"deg\")\n",
    "    cen_coord = SkyCoord(ra=cen_RA, dec=cen_Dec, unit=\"deg\")\n",
    "\n",
    "    sep = obj_coord.separation(cen_coord)\n",
    "\n",
    "    return sep.degree"
   ]
  },
  {
   "cell_type": "code",
   "execution_count": null,
   "id": "8f736446",
   "metadata": {},
   "outputs": [],
   "source": [
    "db_path = \"oneline_v2.0.db\"\n",
    "LSSTdf = get_sql_data(db_path, 0,1)"
   ]
  },
  {
   "cell_type": "code",
   "execution_count": null,
   "id": "e1d89125",
   "metadata": {},
   "outputs": [],
   "source": [
    "LSSTdf"
   ]
  },
  {
   "cell_type": "code",
   "execution_count": null,
   "id": "a8f97812",
   "metadata": {},
   "outputs": [],
   "source": [
    "dfobs = pd.read_csv(\"footprintFilterValidationObservations.csv\", delim_whitespace=True)"
   ]
  },
  {
   "cell_type": "code",
   "execution_count": null,
   "id": "daa91c2d",
   "metadata": {},
   "outputs": [],
   "source": [
    "dfobs = pd.merge(dfobs, LSSTdf, left_on=\"FieldID\", right_on=\"observationId\", how=\"left\")"
   ]
  },
  {
   "cell_type": "code",
   "execution_count": null,
   "id": "783cd665",
   "metadata": {},
   "outputs": [],
   "source": [
    "dfobs"
   ]
  },
  {
   "cell_type": "markdown",
   "id": "13adacc4",
   "metadata": {},
   "source": [
    "We can roughly plot the distance from the field centre in RA and Dec."
   ]
  },
  {
   "cell_type": "code",
   "execution_count": null,
   "id": "137c5262",
   "metadata": {},
   "outputs": [],
   "source": [
    "fig, ax = plt.subplots(1, figsize=(10,10))\n",
    "ax.scatter(dfobs['fieldRA']-dfobs['AstRA(deg)'],dfobs['fieldDec']-dfobs['AstDec(deg)'], s=0.1, color='darkorchid')\n",
    "ax.set_ylabel('distance from field centre RA (deg)')\n",
    "ax.set_xlabel('distance from field centre Dec (deg)')"
   ]
  },
  {
   "cell_type": "markdown",
   "id": "55141644",
   "metadata": {},
   "source": [
    "As can be seen, all of these observations lie on a circle of radius 2.3 degrees. We can also plot this as a histogram."
   ]
  },
  {
   "cell_type": "code",
   "execution_count": null,
   "id": "29345029",
   "metadata": {},
   "outputs": [],
   "source": [
    "object_sep = get_separation(dfobs['AstRA(deg)'].values,\n",
    "                            dfobs['AstDec(deg)'].values, \n",
    "                            dfobs['fieldRA'].values,\n",
    "                            dfobs['fieldDec'].values)\n"
   ]
  },
  {
   "cell_type": "code",
   "execution_count": null,
   "id": "4cd1167f",
   "metadata": {},
   "outputs": [],
   "source": [
    "fig, ax = plt.subplots(1, figsize=(10,10))\n",
    "_ = ax.hist(object_sep, 100, color='plum')\n",
    "ax.axvline(2.1, color='black', linestyle='--')\n",
    "ax.set_xlabel('distance from field centre (deg)')"
   ]
  },
  {
   "cell_type": "markdown",
   "id": "3843b604",
   "metadata": {},
   "source": [
    "Now we apply the circle footprint filter with a radius of 1.5 degrees."
   ]
  },
  {
   "cell_type": "code",
   "execution_count": null,
   "id": "b162ddbc",
   "metadata": {},
   "outputs": [],
   "source": [
    "obs_new = PPCircleFootprint(dfobs, 1.5)"
   ]
  },
  {
   "cell_type": "code",
   "execution_count": null,
   "id": "443df2a6",
   "metadata": {},
   "outputs": [],
   "source": [
    "fig, ax = plt.subplots(1, figsize=(10,10))\n",
    "ax.scatter(obs_new ['fieldRA']-obs_new ['AstRA(deg)'],obs_new ['fieldDec']-obs_new ['AstDec(deg)'], s=0.1, color='darkorchid')\n",
    "ax.set_ylabel('distance from field centre RA (deg)')\n",
    "ax.set_xlabel('distance from field centre Dec (deg)')"
   ]
  },
  {
   "cell_type": "code",
   "execution_count": null,
   "id": "b9fe3370",
   "metadata": {},
   "outputs": [],
   "source": [
    "object_sep_new = get_separation(obs_new['AstRA(deg)'].values,\n",
    "                            obs_new['AstDec(deg)'].values, \n",
    "                            obs_new['fieldRA'].values,\n",
    "                            obs_new['fieldDec'].values)"
   ]
  },
  {
   "cell_type": "code",
   "execution_count": null,
   "id": "abfda510",
   "metadata": {},
   "outputs": [],
   "source": [
    "fig, ax = plt.subplots(1, figsize=(10,10))\n",
    "_ = ax.hist(object_sep_new, 100, color='plum')\n",
    "ax.axvline(1.5, color='black', linestyle='--')\n",
    "ax.set_xlabel('distance from field centre (deg)')"
   ]
  }
 ],
 "metadata": {
  "kernelspec": {
   "display_name": "Python 3 (ipykernel)",
   "language": "python",
   "name": "python3"
  },
  "language_info": {
   "codemirror_mode": {
    "name": "ipython",
    "version": 3
   },
   "file_extension": ".py",
   "mimetype": "text/x-python",
   "name": "python",
   "nbconvert_exporter": "python",
   "pygments_lexer": "ipython3",
   "version": "3.10.12"
  }
 },
 "nbformat": 4,
 "nbformat_minor": 5
}

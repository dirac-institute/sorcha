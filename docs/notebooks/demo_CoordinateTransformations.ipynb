{
 "cells": [
  {
   "cell_type": "markdown",
   "metadata": {},
   "source": [
    "## Demonstration of coordinate transformations between orbital elements and Cartesian coordinates\n",
    "\n",
    "\n",
    "The goal here is to demonstrate how these coordinate transformations work, and what they do. The goal is to from a set of orbital elements in the usual Keplerian basis $(a, e, i, \\Omega, \\omega, \\mathcal{M})$ or the cometary basis $(q, e, i, \\Omega, \\omega, T_p)$ into a set of state vectors $(x, y, z, v_x, v_y, v_z)$. \n",
    "\n",
    "Under the hood, the transformations are using the universal variable formulation of the two body problem, so that eccentric ($0 \\leq e <1$), parabolic ($e=1$) and hyperbolic ($e>1$) orbits can be handled correclty and simultaneously. \n",
    "\n",
    "\n",
    "For the reader interested into getting in the details, [Dandy's Fundamental of Celestial Mechanics](https://www.google.com/books/edition/Fundamentals_of_Celestial_Mechanics/N5h-AAAAIAAJ) is a good reference. The implementation inside `sorcha` follows [Everhart & Pitkin (1983)](https://ui.adsabs.harvard.edu/abs/1983AmJPh..51..712E/abstract).\n",
    "\n"
   ]
  },
  {
   "cell_type": "markdown",
   "metadata": {},
   "source": [
    "### A simple example\n",
    "Let's start with the simplest possible example. Let's define the reduced mass of the system to $\\mu = 1$, and the reference time for the elements (i.e. the epoch where they are defined) to $t = 0$, and unitless distances and times. \n",
    "\n",
    "Let's start with a simple series of orbits:\n",
    "- $q = 10$, $e = 0$, $i = 0^\\circ$, $\\Omega = 10^\\circ$, $\\omega = 0^\\circ$, $T_p = 0$\n",
    "- $q = 10$, $e = 0.1$, $i = 0^\\circ$, $\\Omega = 10^\\circ$, $\\omega = 0^\\circ$, $T_p = 0$\n",
    "- $q = 10$, $e = 0.9999$, $i = 0^\\circ$, $\\Omega = 10^\\circ$, $\\omega = 0^\\circ$, $T_p = 0$\n",
    "- $q = 10$, $e = 1$, $i = 0^\\circ$, $\\Omega = 10^\\circ$, $\\omega = 0^\\circ$, $T_p = 0$\n",
    "- $q = 10$, $e = 1.0001$, $i = 0^\\circ$, $\\Omega = 10^\\circ$, $\\omega = 0^\\circ$, $T_p = 0$\n",
    "- $q = 10$, $e = 6.$, $i = 0^\\circ$, $\\Omega = 10^\\circ$, $\\omega = 0^\\circ$, $T_p = 0$\n",
    "\n",
    "(In all of these cases, the object is at perihelion at the reference time)"
   ]
  },
  {
   "cell_type": "code",
   "execution_count": null,
   "metadata": {},
   "outputs": [],
   "source": [
    "import numpy as np \n",
    "from sorcha.ephemeris.orbit_conversion_utilities import universal_cartesian, universal_keplerian"
   ]
  },
  {
   "cell_type": "code",
   "execution_count": null,
   "metadata": {},
   "outputs": [],
   "source": [
    "# define orbits (no e)\n",
    "q = 10\n",
    "i = 0 * np.pi/180\n",
    "Omega = 10 * np.pi/180\n",
    "omega = 0\n",
    "Tp = 0\n",
    "#define constants\n",
    "epochMJD_TDB = 0\n",
    "mu = 1"
   ]
  },
  {
   "cell_type": "code",
   "execution_count": null,
   "metadata": {},
   "outputs": [],
   "source": [
    "for e in [0, 0.1, 0.9999, 1.0, 1.0001, 6.]:\n",
    "    \n",
    "\tx,y,z,vx,vy,vz = universal_cartesian(mu, q, e, i, Omega, omega, Tp, epochMJD_TDB)\n",
    "\tprint(f'{e}: {x}, {y}, {z}, {vx}, {vy}, {vz}')"
   ]
  },
  {
   "cell_type": "markdown",
   "metadata": {},
   "source": [
    "Unsurprisingly (in other words, intentionally), all orbits are at the same $(x,y,z)$ position, just different velocities (note $v_z = 0$ in all cases because $i = 0^\\circ$)."
   ]
  },
  {
   "cell_type": "markdown",
   "metadata": {},
   "source": [
    "We can also invert these transformations:"
   ]
  },
  {
   "cell_type": "code",
   "execution_count": null,
   "metadata": {},
   "outputs": [],
   "source": [
    "for e in [0, 0.1, 0.9999, 1.0, 1.0001, 6.]:\n",
    "    \n",
    "\tx,y,z,vx,vy,vz = universal_cartesian(mu, q, e, i, Omega, omega, Tp, epochMJD_TDB)\n",
    "\tq_out,e_out,i_out,Omega_out,omega_out,Tp_out = universal_keplerian(mu, x, y, z, vx, vy, vz, epochMJD_TDB)\n",
    "\tprint(f'{e}: {q_out}, {e_out}, {i_out}, {Omega_out}, {omega_out}, {Tp_out}')"
   ]
  },
  {
   "cell_type": "markdown",
   "metadata": {},
   "source": [
    "Note that any differences are of order $10^{-14}$ or less - this only slightly above the machine precision level for doubles - ensuring higher precision would sacrifice runtimes and convergence for the solutions. For the all applications of `sorcha`, this is more than enough."
   ]
  },
  {
   "cell_type": "markdown",
   "metadata": {},
   "source": [
    "### Real world example #1\n",
    "\n",
    "Let's also go through these transformations for a real asteroid. Let's take asteroid 3666 Holman. Using JPL Horizons, we have that:\n",
    "\n",
    "```\n",
    "  2457545.5000000000 = A.D. 2016-Jun-06 00:00:00.0000 TDB     \n",
    "   EC= .1273098034941495   QR= 2.719440725689577   TP= 2457934.5526586706      \n",
    "   OM= 120.3869311657135   W=  55.06308036878693   IN= 2.363582123711951       \n",
    "```\n",
    "At the same epoch, \n",
    "```\n",
    " X =-7.569545429706993E-02 Y = 3.024083648650882E+00 Z =-6.044399403284755E-02\n",
    " VX=-9.914117209213893E-03 VY=-1.485136186100886E-03 VZ= 3.840061650310168E-04\n",
    "```\n",
    "in these units (distances are in au and times are in days), $\\mu = 2.9591220828559115 \\cdot 10^{-4} \\, \\mathrm{au}^3/\\mathrm{d}^2$. \n",
    "\n",
    "Let's copy these numbers directly:\n"
   ]
  },
  {
   "cell_type": "code",
   "execution_count": null,
   "metadata": {},
   "outputs": [],
   "source": [
    "EC= .1273098034941495 \n",
    "QR= 2.719440725689577  \n",
    "TP= 2457934.5526586706      \n",
    "OM= 120.3869311657135 * np.pi/180\n",
    "W=  55.06308036878693   * np.pi/180 \n",
    "IN= 2.363582123711951      * np.pi/180\n",
    "epochMJD_TDB = 2457545.5"
   ]
  },
  {
   "cell_type": "code",
   "execution_count": null,
   "metadata": {},
   "outputs": [],
   "source": [
    "mu = 2.9591220828559115e-04\n",
    "x, y, z, vx, vy, vz = universal_cartesian(mu, QR, EC, IN, OM, W, TP, epochMJD_TDB)\n",
    "print(x,y,z,vx,vy,vz)"
   ]
  },
  {
   "cell_type": "code",
   "execution_count": null,
   "metadata": {},
   "outputs": [],
   "source": [
    " X =-7.569545429706993E-02 \n",
    " Y = 3.024083648650882E+00 \n",
    " Z =-6.044399403284755E-02\n",
    " VX=-9.914117209213893E-03 \n",
    " VY=-1.485136186100886E-03\n",
    " VZ= 3.840061650310168E-04\n",
    "\n",
    "print(x- X, y- Y, z - Z, vx - VX, vy - VY, vz - VZ)"
   ]
  },
  {
   "cell_type": "markdown",
   "metadata": {},
   "source": [
    "The differences are within reasonable tolerance limits.\n",
    "\n",
    "So finally, if we want to rotate these from the ecliptic coordinate frame to the equatorial frame, we have that:"
   ]
  },
  {
   "cell_type": "code",
   "execution_count": null,
   "metadata": {},
   "outputs": [],
   "source": [
    "from sorcha.ephemeris.simulation_constants import ECL_TO_EQ_ROTATION_MATRIX"
   ]
  },
  {
   "cell_type": "code",
   "execution_count": null,
   "metadata": {},
   "outputs": [],
   "source": [
    "pos_ecl = np.array([x,y,z])\n",
    "vel_ecl = np.array([vx,vy,vz])\n",
    "\n",
    "pos_eq = ECL_TO_EQ_ROTATION_MATRIX @ pos_ecl\n",
    "vel_eq = ECL_TO_EQ_ROTATION_MATRIX @ vel_ecl\n",
    "\n",
    "print(pos_eq, vel_eq)"
   ]
  },
  {
   "cell_type": "markdown",
   "metadata": {},
   "source": [
    "### Real world example #2 \n",
    "\n",
    "As a second test, let's compare against 2I/Borisov, doing the inverse transformations:\n",
    "\n",
    "From JPL, again:\n",
    "\n",
    "```\n",
    "2460188.500000000 = A.D. 2023-Sep-01 00:00:00.0000 TDB \n",
    " EC= 3.345550605771202E+00 QR= 1.998821321255714E+00 IN= 4.412305585291305E+01\n",
    " OM= 3.080238378883400E+02 W = 2.091328388499988E+02 Tp=  2458825.978725019377\n",
    "```\n",
    "```\n",
    " X =-6.658710421827730E-01 Y =-2.313385391700901E+01 Z =-1.432926077530441E+01\n",
    " VX= 1.089064793811738E-03 VY=-1.681872446865637E-02 VZ=-9.215726774314793E-03\n",
    "```\n"
   ]
  },
  {
   "cell_type": "code",
   "execution_count": null,
   "metadata": {},
   "outputs": [],
   "source": [
    "X =-6.658710421827730E-01 \n",
    "Y =-2.313385391700901E+01 \n",
    "Z =-1.432926077530441E+01\n",
    "VX= 1.089064793811738E-03 \n",
    "VY=-1.681872446865637E-02 \n",
    "VZ=-9.215726774314793E-03\n",
    "\n",
    "EC= 3.345550605771202E+00 \n",
    "QR= 1.998821321255714E+00 \n",
    "IN= 4.412305585291305E+01 * np.pi/180\n",
    "OM= 3.080238378883400E+02 *np.pi/180\n",
    "W = 2.091328388499988E+02  * np.pi/180\n",
    "Tp=  2458825.978725019377\n",
    "\n",
    "\n",
    "epochMJD_TDB = 2460188.500000000\n",
    "\n",
    "q, e, incl, longnode, argperi, tp = universal_keplerian(mu, X, Y, Z, VX, VY, VZ, epochMJD_TDB)\n",
    "\n",
    " \n",
    "print(q, e, incl, longnode, argperi, Tp)\n",
    "print(q-QR, e-EC, incl-IN, longnode-OM, argperi-W, tp - Tp)\n"
   ]
  },
  {
   "cell_type": "markdown",
   "metadata": {},
   "source": [
    "Note that the differences in $\\Omega$ and $\\omega$ are factors of $2 \\pi$ coming from choices about the ranges of these angles:"
   ]
  },
  {
   "cell_type": "code",
   "execution_count": null,
   "metadata": {},
   "outputs": [],
   "source": [
    "print(longnode-OM + 2 * np.pi, argperi-W + 2 * np.pi)"
   ]
  },
  {
   "cell_type": "markdown",
   "metadata": {},
   "source": [
    "### But what about the mean anomaly?\n",
    "\n",
    "\n",
    "So far, we have used $(q, e, i, \\Omega, \\omega, T_p)$ instead of $(a, e, i, \\Omega, \\omega, \\mathcal{M})$. For a bound orbit, the second representation is also possible (and oftentimes simpler/easier to interpret). In these cases, the usual conversions apply:\n",
    "$$ q = a(1-e)$$ \n",
    "$$ T_p = t_0 - \\mathcal{M} \\sqrt{a^3/\\mu} $$\n",
    "\n",
    "Going back to our first example:"
   ]
  },
  {
   "cell_type": "code",
   "execution_count": null,
   "metadata": {},
   "outputs": [],
   "source": [
    "a = 10\n",
    "e = 0.1\n",
    "i = 0 * np.pi/180\n",
    "Omega = 10 * np.pi/180\n",
    "omega = 0\n",
    "M = 0 * np.pi/180 #note that we need radians here as well! \n",
    "#define constants\n",
    "epochMJD_TDB = 0\n",
    "mu = 1\n",
    "\n",
    "print(universal_cartesian(mu, a * (1-e), e, i, Omega, omega, epochMJD_TDB - M * np.sqrt(a**3/mu), epochMJD_TDB))"
   ]
  },
  {
   "cell_type": "markdown",
   "metadata": {},
   "source": [
    "The orbit is still $q = a(1-e) = 9$ units from the center at perihelion ($\\mathcal{M} = 0^\\circ$), as desired."
   ]
  }
 ],
 "metadata": {
  "kernelspec": {
   "display_name": "Python 3",
   "language": "python",
   "name": "python3"
  },
  "language_info": {
   "codemirror_mode": {
    "name": "ipython",
    "version": 3
   },
   "file_extension": ".py",
   "mimetype": "text/x-python",
   "name": "python",
   "nbconvert_exporter": "python",
   "pygments_lexer": "ipython3",
   "version": "3.10.12"
  }
 },
 "nbformat": 4,
 "nbformat_minor": 2
}

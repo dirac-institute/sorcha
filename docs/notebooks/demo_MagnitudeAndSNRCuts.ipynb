{
 "cells": [
  {
   "cell_type": "markdown",
   "id": "ca78d08f",
   "metadata": {},
   "source": [
    "# Magnitude and SNR Cuts"
   ]
  },
  {
   "cell_type": "code",
   "execution_count": null,
   "id": "b2a3f026",
   "metadata": {},
   "outputs": [],
   "source": [
    "from sorcha.modules.PPBrightLimit import PPBrightLimit\n",
    "from sorcha.modules.PPMagnitudeLimit import PPMagnitudeLimit\n",
    "from sorcha.modules.PPSNRLimit import PPSNRLimit\n",
    "import pandas as pd\n",
    "import matplotlib.pyplot as plt\n",
    "import numpy as np"
   ]
  },
  {
   "cell_type": "markdown",
   "id": "88651379",
   "metadata": {},
   "source": [
    "There are three filters in the survey simulator that perform simple cuts based on SNR or magnitude, the latter to either drop observations too faint to be interesting or too bright and therefore saturating the detector. These are PPSNRLimit, PPMagnitudeLimit, and PPBrightLimit.\n",
    "\n",
    "This notebook will demonstrate each in turn. First we generate some randomised (and rather unphysical) test data."
   ]
  },
  {
   "cell_type": "code",
   "execution_count": null,
   "id": "4dfbfd1b",
   "metadata": {},
   "outputs": [],
   "source": [
    "rng = np.random.default_rng()\n",
    "data_size = 1000\n",
    "\n",
    "filters = ['r', 'g', 'i']\n",
    "\n",
    "random_magnitudes = 17.5 + (rng.random(data_size) * 6.5)\n",
    "random_SNRs = 0.5 + (rng.random(data_size) * 7)\n",
    "random_filters = rng.choice(filters, data_size)\n",
    "\n",
    "test_data = pd.DataFrame({'observedPSFMag': random_magnitudes, 'SNR': random_SNRs, 'optFilter': random_filters})\n",
    "\n",
    "test_data"
   ]
  },
  {
   "cell_type": "markdown",
   "id": "b70d313e",
   "metadata": {},
   "source": [
    "Let's look at the magnitude filters first. The below shows the original randomised magnitudes."
   ]
  },
  {
   "cell_type": "code",
   "execution_count": null,
   "id": "2bad41cd",
   "metadata": {},
   "outputs": [],
   "source": [
    "fig, ax = plt.subplots(1)\n",
    "ax.hist(random_magnitudes, 50, color='thistle')\n",
    "ax.set_ylabel('frequency')\n",
    "ax.set_xlabel('magnitude')\n",
    "ax.autoscale(axis='x', tight=True)"
   ]
  },
  {
   "cell_type": "markdown",
   "id": "261aee28",
   "metadata": {},
   "source": [
    "Testing first the magnitude filter for cutting faint objects, we will cut everything fainter than 21 mag."
   ]
  },
  {
   "cell_type": "code",
   "execution_count": null,
   "id": "b8672534",
   "metadata": {},
   "outputs": [],
   "source": [
    "test_data_maglimit = PPMagnitudeLimit(test_data, 21.)"
   ]
  },
  {
   "cell_type": "code",
   "execution_count": null,
   "id": "e7f6f868",
   "metadata": {},
   "outputs": [],
   "source": [
    "maglimit_magnitudes = test_data_maglimit['observedPSFMag'].values\n",
    "\n",
    "fig, ax = plt.subplots(1)\n",
    "ax.hist(maglimit_magnitudes, 50, color='thistle')\n",
    "ax.set_ylabel('frequency')\n",
    "ax.set_xlabel('magnitude')\n",
    "ax.set_xlim((17.5, 24))\n",
    "ax.axvline(21, linestyle='--', linewidth=1., color='darkslateblue')"
   ]
  },
  {
   "cell_type": "markdown",
   "id": "b7265ab9",
   "metadata": {},
   "source": [
    "Now we will use the brightness limit filter. This allows the user to set a different saturation limit for each filter. As we have data in g, r and i, we will set the saturation limits as 18, 19 and 20 (chosen for clarity, not accuracy!)."
   ]
  },
  {
   "cell_type": "code",
   "execution_count": null,
   "id": "e4ce3da7",
   "metadata": {},
   "outputs": [],
   "source": [
    "test_data_brightlimit = PPBrightLimit(test_data, filters, [18., 19., 20.])"
   ]
  },
  {
   "cell_type": "code",
   "execution_count": null,
   "id": "a746fb15",
   "metadata": {},
   "outputs": [],
   "source": [
    "r_magnitudes = test_data_brightlimit[test_data_brightlimit['optFilter'] == 'r']['observedPSFMag'].values\n",
    "g_magnitudes = test_data_brightlimit[test_data_brightlimit['optFilter'] == 'g']['observedPSFMag'].values\n",
    "i_magnitudes = test_data_brightlimit[test_data_brightlimit['optFilter'] == 'i']['observedPSFMag'].values"
   ]
  },
  {
   "cell_type": "code",
   "execution_count": null,
   "id": "849956fe",
   "metadata": {},
   "outputs": [],
   "source": [
    "fig, ax = plt.subplots(3, figsize=(5, 12))\n",
    "\n",
    "ax[0].hist(r_magnitudes, 50, color='lightpink')\n",
    "ax[0].axvline(18, linestyle='--', linewidth=1., color='crimson')\n",
    "ax[0].set_ylabel('frequency')\n",
    "\n",
    "ax[1].hist(g_magnitudes, 50, color='lightgreen')\n",
    "ax[1].axvline(19, linestyle='--', linewidth=1., color='forestgreen')\n",
    "\n",
    "ax[2].hist(i_magnitudes, 50, color='paleturquoise')\n",
    "ax[2].axvline(20, linestyle='--', linewidth=1., color='lightseagreen')\n",
    "\n",
    "for a in ax:\n",
    "    a.set_xlabel('magnitude')\n",
    "    a.set_xlim((17.5, 24))\n"
   ]
  },
  {
   "cell_type": "markdown",
   "id": "41ec6ecc",
   "metadata": {},
   "source": [
    "Alternatively, we can set a single brightness limit of 18.5 across all filters."
   ]
  },
  {
   "cell_type": "code",
   "execution_count": null,
   "id": "c28ca726",
   "metadata": {},
   "outputs": [],
   "source": [
    "test_data_brightlimit_single = PPBrightLimit(test_data, filters, 18.5)"
   ]
  },
  {
   "cell_type": "code",
   "execution_count": null,
   "id": "b506d88c",
   "metadata": {},
   "outputs": [],
   "source": [
    "singlelimit_magnitudes = test_data_brightlimit_single['observedPSFMag'].values\n",
    "\n",
    "fig, ax = plt.subplots(1)\n",
    "ax.hist(singlelimit_magnitudes, 50, color='thistle')\n",
    "ax.set_ylabel('frequency')\n",
    "ax.set_xlabel('magnitude')\n",
    "ax.set_xlim((17.5, 24))\n",
    "ax.axvline(18.5, linestyle='--', linewidth=1., color='darkslateblue')"
   ]
  },
  {
   "cell_type": "markdown",
   "id": "66bd1ab0",
   "metadata": {},
   "source": [
    "Now we will look at the SNR limit. First, the original randomised SNRs."
   ]
  },
  {
   "cell_type": "code",
   "execution_count": null,
   "id": "328d6128",
   "metadata": {},
   "outputs": [],
   "source": [
    "fig, ax = plt.subplots(1)\n",
    "ax.hist(random_SNRs, 50, color='palegoldenrod')\n",
    "ax.set_ylabel('frequency')\n",
    "ax.set_xlabel('SNR')\n",
    "ax.autoscale(axis='x', tight=True)"
   ]
  },
  {
   "cell_type": "markdown",
   "id": "7aa4a5e7",
   "metadata": {},
   "source": [
    "Now we will cut everything with an SNR lower than 2 (which is the default in the code)."
   ]
  },
  {
   "cell_type": "code",
   "execution_count": null,
   "id": "be64ee08",
   "metadata": {},
   "outputs": [],
   "source": [
    "test_data_SNRlimit = PPSNRLimit(test_data, 2.)"
   ]
  },
  {
   "cell_type": "code",
   "execution_count": null,
   "id": "d5ee4b62",
   "metadata": {},
   "outputs": [],
   "source": [
    "limit_SNRs = test_data_SNRlimit['SNR'].values\n",
    "\n",
    "fig, ax = plt.subplots(1)\n",
    "ax.hist(limit_SNRs, 50, color='palegoldenrod')\n",
    "ax.set_ylabel('frequency')\n",
    "ax.set_xlabel('SNR')\n",
    "ax.set_xlim((0.5, 7.5))\n",
    "ax.axvline(2, linestyle='--', linewidth=1., color='gold')"
   ]
  }
 ],
 "metadata": {
  "kernelspec": {
   "display_name": "Python 3 (ipykernel)",
   "language": "python",
   "name": "python3"
  },
  "language_info": {
   "codemirror_mode": {
    "name": "ipython",
    "version": 3
   },
   "file_extension": ".py",
   "mimetype": "text/x-python",
   "name": "python",
   "nbconvert_exporter": "python",
   "pygments_lexer": "ipython3",
   "version": "3.10.12"
  }
 },
 "nbformat": 4,
 "nbformat_minor": 5
}

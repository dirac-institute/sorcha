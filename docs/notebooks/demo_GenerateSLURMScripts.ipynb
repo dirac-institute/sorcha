{
 "cells": [
  {
   "cell_type": "markdown",
   "id": "c659f068-3614-4753-896e-22e7df543aff",
   "metadata": {},
   "source": [
    "## Generating multiple SLURM scripts"
   ]
  },
  {
   "cell_type": "markdown",
   "id": "09ecc02a-36da-4e23-8abb-80263025476f",
   "metadata": {},
   "source": [
    "This notebook is an example of a notebook which generates either a single or multiple SLURM scripts for use on a supercomputer using the SLURM queue system. If you want to use this, **you will need to heavily edit this to suit your own particular setup.**\n",
    "\n",
    "This notebook does assume that you have a local copy of the input files on the machine where you are running this notebook. If you don't, you'll have to edit this a bit more.\n",
    "\n",
    "In the case presented below, there are 16 folders each containing ~100 sets of input files for Sorcha. An example of a folder layout and file/folder naming system is shown below.\n",
    "\n",
    "![alternative text](example_file_structure.png)"
   ]
  },
  {
   "cell_type": "code",
   "execution_count": null,
   "id": "f6efef55-7d0f-456a-9415-54941bb01315",
   "metadata": {},
   "outputs": [],
   "source": [
    "import glob\n",
    "import os\n",
    "import re"
   ]
  },
  {
   "cell_type": "markdown",
   "id": "e6c4572f-eb5b-4149-9826-d8d08d1f4f83",
   "metadata": {},
   "source": [
    "Below are defined a number of parameters, most of which go into the header of the SLURM scripts. You will likely need to edit these to match your own preferences.\n",
    "\n",
    "The top parameter controls the number of SLURM scripts you want to generate, corresponding to the number of input folders. It's perfectly fine to just put '1' here if you only need one."
   ]
  },
  {
   "cell_type": "code",
   "execution_count": null,
   "id": "91284775-87c2-4ede-b77a-a48ea77f604b",
   "metadata": {},
   "outputs": [],
   "source": [
    "number_of_files = 16\n",
    "filename = 'batch_script'\n",
    "\n",
    "job_name = 'Sorcha_batch'\n",
    "ntasks = '100'\n",
    "mem_per_cpu = '7G'\n",
    "output_path = 'path/to/terminal/output'\n",
    "time = '3:00:00'\n",
    "partition = 'your_partition'"
   ]
  },
  {
   "cell_type": "markdown",
   "id": "23074160-c567-464d-8140-67755a541fe0",
   "metadata": {},
   "source": [
    "The below should be the folder/pattern where your input files are **currently** located, i.e. on your local machine. The code uses this to get the list of input filenames. If you are running this notebook on the supercomputer, inputs_in is the same path as inputs_out below.\n",
    "\n",
    "In this example, the expectation is that the input folders are called './dp03_inputs_kelvin/kelvin_dp03_batch_1', './dp03_inputs_kelvin/kelvin_dp03_batch_2', './dp03_inputs_kelvin/kelvin_dp03_batch_3', etc, as shown in the above graphic."
   ]
  },
  {
   "cell_type": "code",
   "execution_count": null,
   "id": "5f71d1c3-7013-4b31-a75b-3cf235e2862e",
   "metadata": {},
   "outputs": [],
   "source": [
    "inputs_in = './dp03_inputs_kelvin/kelvin_dp03_batch_'"
   ]
  },
  {
   "cell_type": "markdown",
   "id": "9ddc1922-5564-42af-aa32-85b3a52af461",
   "metadata": {},
   "source": [
    "The below parameters define where the inputs, configuration file, output folder, pointing database and SPICE files are located on the machine on which you will be running Sorcha. Edit these to where these files and folders will be located on your supercomputer."
   ]
  },
  {
   "cell_type": "code",
   "execution_count": null,
   "id": "337d4ef0-742f-4156-bcca-9137f98174ff",
   "metadata": {},
   "outputs": [],
   "source": [
    "inputs_out = '/supercomputer_inputs_location/sorcha_batch_'\n",
    "config = '/supercomputer_inputs_location/sorcha_config.ini'\n",
    "outputs_out = '/supercomputer_outputs_location/sorcha_batch_'\n",
    "pointing = 'supercomputer_outputs_location/baseline_v2.0_10yrs.db'\n",
    "ar_data_path = '/supercomputer_cache_location/sorcha_cache_files'"
   ]
  },
  {
   "cell_type": "markdown",
   "id": "ce20b38e-d41c-418f-8e60-d37947d4bd7b",
   "metadata": {},
   "source": [
    "The below function creates the header of the SLURM scripts, including any introductory commands such as loading Anaconda and activating the correct Conda environment. Once again, you will likely need to edit this heavily for your own setup."
   ]
  },
  {
   "cell_type": "code",
   "execution_count": null,
   "id": "44bac1b6-2f69-4267-ab04-d4c3673dec10",
   "metadata": {},
   "outputs": [],
   "source": [
    "def print_header(filename, n, job_name, ntasks, mem_per_cpu, output_path, time, partition):\n",
    "\n",
    "    with open(filename, \"a\") as the_file:\n",
    "        the_file.write(\"#!/bin/bash\\n\")\n",
    "        the_file.write(\"#SBATCH --job-name=\" + job_name + str(n) + \"\\n\")\n",
    "        the_file.write(\"#SBATCH --ntasks=\" + ntasks + \"\\n\")\n",
    "        the_file.write(\"#SBATCH --mem-per-cpu=\" + mem_per_cpu + \"\\n\")\n",
    "        the_file.write(\"#SBATCH --cpus-per-task=1\\n\")\n",
    "        the_file.write(\"#SBATCH --output=\" + output_path + job_name + str(n) + \".out\\n\")\n",
    "        the_file.write(\"#SBATCH --time=\" + time + \"\\n\")\n",
    "        the_file.write(\"#SBATCH --partition=\" + partition + \"\\n\")\n",
    "        the_file.write(\"#SBATCH --mail-user=YOUR EMAIL ADDRESS GOES HERE\\n\") # put your own email address in here!!\n",
    "        the_file.write(\"#SBATCH --mail-type=BEGIN,FAIL,END\\n\")\n",
    "        the_file.write(\"\\n\")\n",
    "        the_file.write(\"dt=$(date '+%d/%m/%Y %H:%M:%S');\\n\")\n",
    "        the_file.write(\"echo \\\"$dt Beginning Sorcha.\\\"\\n\")\n",
    "        the_file.write(\"\\n\")\n",
    "        the_file.write(\"module load apps/anaconda3/2022.10/bin\\n\")\n",
    "        the_file.write(\"\\n\")\n",
    "        the_file.write(\"source activate sorcha\\n\")\n",
    "        the_file.write(\"\\n\")\n",
    "        the_file.write(\"\\n\")"
   ]
  },
  {
   "cell_type": "markdown",
   "id": "7613da62-9dbd-45e6-a569-9744a515f45e",
   "metadata": {},
   "source": [
    "The below prints a footer to the SLURM scripts, which you can also edit if you like."
   ]
  },
  {
   "cell_type": "code",
   "execution_count": null,
   "id": "75a822dc-7256-4d1d-8c59-677dd1a4cb9d",
   "metadata": {},
   "outputs": [],
   "source": [
    "def print_footer(filename):\n",
    "    \n",
    "    with open(filename, \"a\") as the_file:\n",
    "        the_file.write(\"\\n\")\n",
    "        the_file.write(\"dt=$(date '+%d/%m/%Y %H:%M:%S');\\n\")\n",
    "        the_file.write(\"echo \\\"$dt Sorcha complete.\\\"\\n\")"
   ]
  },
  {
   "cell_type": "markdown",
   "id": "5124e484-437b-48cf-8251-3a6590246972",
   "metadata": {},
   "source": [
    "The below function shouldn't need to be edited."
   ]
  },
  {
   "cell_type": "code",
   "execution_count": null,
   "id": "5f03b007-aae3-40a6-ac6a-ff291d62244d",
   "metadata": {},
   "outputs": [],
   "source": [
    "def get_sorted_list_of_files(filepath, stem):\n",
    "    \"\"\"Globs for a list of files using the suggested filepath and stem (which should\n",
    "    include wildcards) then sorts the list. If no files are found, the code exits.\n",
    "\n",
    "    Parameters:\n",
    "    -----------\n",
    "    filepath (string): filepath of folder where files are located\n",
    "\n",
    "    stem (string): string containing filename pattern to search for\n",
    "\n",
    "    Returns:\n",
    "    -----------\n",
    "    globbed_list (list): sorted list of filename strings\n",
    "\n",
    "    \"\"\"\n",
    "\n",
    "    globbed_list = glob.glob(os.path.join(filepath, stem))\n",
    "    globbed_list.sort()\n",
    "\n",
    "    if not globbed_list:\n",
    "        print(\"Could not find any files on given input path {} using stem {}.\".format(filepath, stem))\n",
    "\n",
    "    return globbed_list"
   ]
  },
  {
   "cell_type": "markdown",
   "id": "edf60bd3-83ed-4f3d-a2c4-dce45b4b5b83",
   "metadata": {},
   "source": [
    "The below function may need to be edited. It assumes that your input files take a specific format where the orbit files contain the pattern \\*orbit\\* and the physical parameters files contain the pattern \\*physical\\*. You may also wish to edit Sorcha's command line arguments here."
   ]
  },
  {
   "cell_type": "code",
   "execution_count": null,
   "id": "06bf31d1-3b3b-46c7-bfaa-cf9f720f8b5a",
   "metadata": {},
   "outputs": [],
   "source": [
    "def add_SLURM_commands(filename, n, inputs_in, inputs_out, config, outputs_out, pointing):\n",
    "\n",
    "    sorcha_base_command = \"srun --exclusive -N1 -n1 -c1 sorcha\" # you may want to edit this if you know what you're doing\n",
    "\n",
    "    orbits = get_sorted_list_of_files(inputs_in+str(n), '*orbit*') # edit these two lines if your files have a different naming pattern\n",
    "    params = get_sorted_list_of_files(inputs_in+str(n), '*physical*')\n",
    "\n",
    "    for i, orbits_fn in enumerate(orbits):\n",
    "\n",
    "        root_fn = os.path.basename(os.path.splitext(orbits_fn)[0]).replace('_orbit', '')\n",
    "\n",
    "        params_fn_new = os.path.join(inputs_out+str(n), os.path.basename(params[i]))\n",
    "        orbits_fn_new = os.path.join(inputs_out+str(n), os.path.basename(orbits_fn))\n",
    "\n",
    "        output_folder = os.path.join(outputs_out+str(n), root_fn)\n",
    "        mkdir_command = \" \".join([\"mkdir\", output_folder])\n",
    "\n",
    "        full_command = [\n",
    "            sorcha_base_command, # you may want to edit the command line arguments for Sorcha\n",
    "            \"-c\",\n",
    "            config,\n",
    "            \"-ob\",\n",
    "            orbits_fn_new,\n",
    "            \"-p\",\n",
    "            params_fn_new,\n",
    "            \"-pd\",\n",
    "            pointing,\n",
    "            \"-o\",\n",
    "            output_folder,\n",
    "            \"-t\",\n",
    "            \"_\".join(['SorchaOutput', root_fn]),\n",
    "        ]\n",
    "\n",
    "        #ephem_out = os.path.join(output_folder, \"_\".join([\"ephem\", root_fn + \".txt\"]))\n",
    "        #full_command.extend([\"-ew\", ephem_out])\n",
    "\n",
    "        full_command.extend([\"-ar\", ar_data_path])\n",
    "\n",
    "        command_out = \" \".join(full_command)\n",
    "\n",
    "        with open(filename, \"a\") as the_file:\n",
    "            the_file.write(mkdir_command + \"\\n\")\n",
    "            the_file.write(command_out + \" & \\n\")\n",
    "\n",
    "    with open(filename, \"a\") as the_file:\n",
    "        the_file.write(\"wait\\n\")"
   ]
  },
  {
   "cell_type": "markdown",
   "id": "94652fe1-9f43-4cf1-8db3-e4ba7bf415d4",
   "metadata": {},
   "source": [
    "Run the below cell to generate your SLURM scripts."
   ]
  },
  {
   "cell_type": "code",
   "execution_count": null,
   "id": "e97b6ead-1de8-4d14-aed1-dd1222661f5d",
   "metadata": {},
   "outputs": [],
   "source": [
    "for i in range(1, number_of_files+1):\n",
    "\n",
    "    script_filename = filename+str(i)+'.sh'\n",
    "    \n",
    "    print_header(script_filename, i, job_name, ntasks, mem_per_cpu, output_path, time, partition)\n",
    "    add_SLURM_commands(script_filename, i, inputs_in, inputs_out, config, outputs_out, pointing)\n",
    "    print_footer(script_filename)"
   ]
  },
  {
   "cell_type": "code",
   "execution_count": null,
   "id": "a3057efd-cfb9-4207-aca7-19ee81a59cf3",
   "metadata": {},
   "outputs": [],
   "source": []
  }
 ],
 "metadata": {
  "kernelspec": {
   "display_name": "Python 3 (ipykernel)",
   "language": "python",
   "name": "python3"
  },
  "language_info": {
   "codemirror_mode": {
    "name": "ipython",
    "version": 3
   },
   "file_extension": ".py",
   "mimetype": "text/x-python",
   "name": "python",
   "nbconvert_exporter": "python",
   "pygments_lexer": "ipython3",
   "version": "3.10.13"
  }
 },
 "nbformat": 4,
 "nbformat_minor": 5
}

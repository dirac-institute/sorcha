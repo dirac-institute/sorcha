{
 "cells": [
  {
   "cell_type": "markdown",
   "id": "b1834e01",
   "metadata": {},
   "source": [
    "# Trailing Losses Validation"
   ]
  },
  {
   "cell_type": "code",
   "execution_count": null,
   "id": "74dd7218-3151-4ad4-8230-45eeb0856ec4",
   "metadata": {},
   "outputs": [],
   "source": [
    "import numpy as np\n",
    "import matplotlib.pyplot as plt\n",
    "\n",
    "from sorcha.modules import PPTrailingLoss"
   ]
  },
  {
   "cell_type": "markdown",
   "id": "c8069cfe-b8f5-4e7d-ad93-500e4074093e",
   "metadata": {},
   "source": [
    "Validation Jupyter Notebook for PPTrailingLoss function in sorcha\n",
    "\n",
    "1. Validation is done by calling PPTrailingLoss and comparing to the results from Jones et al. (2018)\n",
    "Icarus 303 181 https://doi.org/10.1016/j.icarus.2017.11.033\n",
    "The trailing loss curves are calculated with different seeing values: 0.5, 0.7 and 1.0.\n",
    "\n",
    "2. The zoom-in of the difference between PSF trailing loss and combined PSF and detection trailing loss components.\n",
    "At small velocities (less than 1 deg/day) the difference is negligible.\n",
    "\n",
    "3. Thresholds for typical on sky motions (formula 1 from Luu and Jewitt 1988, AJ 95 1256, \n",
    "https://ui.adsabs.harvard.edu/abs/1988AJ.....95.1256L/abstract ) \n",
    "for objects at opposition distances for typical dynamical groups:\n",
    "1 au (inner MBA), 3 au (outer MBA), 4 au (Jupiter Trojan),\n",
    "35 au (TNOs). "
   ]
  },
  {
   "cell_type": "code",
   "execution_count": null,
   "id": "d85ddfe1-a514-4776-b668-760bf1d11567",
   "metadata": {},
   "outputs": [],
   "source": [
    "θ = [0.5, 0.7, 1.0]\n",
    "dra = np.linspace(0, 8.0, 1000) #deg/day\n",
    "ddec = np.linspace(0, 8.0, 1000) #deg/day\n",
    "v = np.sqrt(dra**2 + ddec**2) #deg/day\n",
    "\n",
    "lossesCircularPSF5 = PPTrailingLoss.calcTrailingLoss(dra, ddec, θ[0], model=\"circularPSF\")\n",
    "lossesTrailedSource5 = PPTrailingLoss.calcTrailingLoss(dra, ddec, θ[0], model=\"trailedSource\")\n",
    "\n",
    "lossesCircularPSF7 = PPTrailingLoss.calcTrailingLoss(dra, ddec, θ[1], model=\"circularPSF\")\n",
    "lossesTrailedSource7 = PPTrailingLoss.calcTrailingLoss(dra, ddec, θ[1], model=\"trailedSource\")\n",
    "\n",
    "lossesCircularPSF10 = PPTrailingLoss.calcTrailingLoss(dra, ddec, θ[2], model=\"circularPSF\")\n",
    "lossesTrailedSource10 = PPTrailingLoss.calcTrailingLoss(dra, ddec, θ[2], model=\"trailedSource\")"
   ]
  },
  {
   "cell_type": "code",
   "execution_count": null,
   "id": "ea3ab6e2-bae2-44fd-9260-2b89a3fdfaac",
   "metadata": {},
   "outputs": [],
   "source": [
    "fig = plt.figure(figsize=(10, 10))\n",
    "plt.plot(v, lossesCircularPSF5, color='blue', label='Circular PSF Model, θ=0.5')\n",
    "plt.plot(v, lossesTrailedSource5, '--',color='blue', label='Trailed Source Model, θ=0.5')\n",
    "\n",
    "plt.plot(v, lossesCircularPSF7, color='red', label='Circular PSF Model, θ=0.7')\n",
    "plt.plot(v, lossesTrailedSource7, '--',color='red', label='Trailed Source Model, θ=0.7')\n",
    "\n",
    "plt.plot(v, lossesCircularPSF10, color='gray', label='Circular PSF Model, θ=1.0')\n",
    "plt.plot(v, lossesTrailedSource10, '--',color='gray', label='Trailed Source Model, θ=1.0')\n",
    "#plt.title(\"θ = 0.5\")\n",
    "plt.legend()\n",
    "#plt.xlim(0., 0.2)\n",
    "plt.xlabel(\"v (deg/day)\")\n",
    "plt.ylabel(\"Losses (mag)\")\n",
    "plt.grid()\n",
    ";"
   ]
  },
  {
   "cell_type": "code",
   "execution_count": null,
   "id": "cc1827da-59d7-4ecd-a3ce-be573b57ec2b",
   "metadata": {},
   "outputs": [],
   "source": [
    "fig = plt.figure(figsize=(10, 10))\n",
    "\n",
    "plt.plot(v, lossesCircularPSF7, color='red', label='Circular PSF Model, θ=0.7')\n",
    "plt.plot(v, lossesTrailedSource7, '--',color='red', label='Trailed Source Model, θ=0.7')\n",
    "\n",
    "plt.legend()\n",
    "\n",
    "plt.xlim(0., 0.6)\n",
    "plt.ylim(0., 0.25)\n",
    "\n",
    "plt.xlabel(\"v (deg/day)\")\n",
    "plt.ylabel(\"Losses (mag)\")\n",
    "plt.grid()\n",
    ";"
   ]
  },
  {
   "cell_type": "code",
   "execution_count": null,
   "id": "8f14ddab-a5c1-425a-8ca6-09624a73b8d6",
   "metadata": {},
   "outputs": [],
   "source": [
    "R = np.array([1.1,3.,4.,30.]) \n",
    "typical_motions = 148.0*(1-R**-0.5)/(R-1) #arcsec/hour\n",
    "typical_motions /= 3600.\n",
    "typical_motions *= 24."
   ]
  },
  {
   "cell_type": "code",
   "execution_count": null,
   "id": "e2bacd13-c5eb-41c1-9c34-43a6616055d8",
   "metadata": {},
   "outputs": [],
   "source": [
    "typical_motions"
   ]
  },
  {
   "cell_type": "code",
   "execution_count": null,
   "id": "0b4cddb7-fe3d-4452-87a5-485c4bc60086",
   "metadata": {},
   "outputs": [],
   "source": [
    "fig = plt.figure(figsize=(10, 10))\n",
    "\n",
    "plt.plot(v, lossesCircularPSF7, color='red', label='Circular PSF Model, θ=0.7')\n",
    "plt.plot(v, lossesTrailedSource7, '--',color='red', label='Trailed Source Model, θ=0.7')\n",
    "\n",
    "plt.vlines(typical_motions[-1], 0.0, 2.5, label='TNO', color='b')\n",
    "plt.vlines(typical_motions[-2], 0.0, 2.5, label='Jupiter Trojan', color='g')\n",
    "plt.vlines(typical_motions[-3], 0.0, 2.5, label='Outer MBA', color='gray')\n",
    "plt.vlines(typical_motions[-4], 0.0, 2.5, label='Inner MBA')\n",
    "\n",
    "plt.legend()\n",
    "\n",
    "plt.xlim(0., .6)\n",
    "plt.ylim(0., 0.25)\n",
    "\n",
    "plt.xlabel(\"v (deg/day)\")\n",
    "plt.ylabel(\"Losses (mag)\")\n",
    "plt.grid()\n",
    ";"
   ]
  }
 ],
 "metadata": {
  "kernelspec": {
   "display_name": "Python 3 (ipykernel)",
   "language": "python",
   "name": "python3"
  },
  "language_info": {
   "codemirror_mode": {
    "name": "ipython",
    "version": 3
   },
   "file_extension": ".py",
   "mimetype": "text/x-python",
   "name": "python",
   "nbconvert_exporter": "python",
   "pygments_lexer": "ipython3",
   "version": "3.10.12"
  }
 },
 "nbformat": 4,
 "nbformat_minor": 5
}

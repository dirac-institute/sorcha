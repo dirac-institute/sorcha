{
 "cells": [
  {
   "cell_type": "markdown",
   "id": "6ee8aad4",
   "metadata": {},
   "source": [
    "# Linking Filter Validation"
   ]
  },
  {
   "cell_type": "code",
   "execution_count": null,
   "id": "60e6375c",
   "metadata": {},
   "outputs": [],
   "source": [
    "import pandas as pd\n",
    "import numpy as np\n",
    "from sorcha.modules.PPLinkingFilter import PPLinkingFilter"
   ]
  },
  {
   "cell_type": "markdown",
   "id": "4ec07708",
   "metadata": {},
   "source": [
    "This function aims to mimic the effects of the Solar System Processing pipeline in linking objects. More information can be found [here](http://lsst-sssc.github.io/software.html). If we use the SSP defaults, for an object to be linked, it must have:\n",
    "* At least **2** observations in a night to constitute a valid tracklet.\n",
    "* These observations must have an angular separation of at least **0.5 arcseconds** in order to be recognised as separate.\n",
    "* However, subsequent observations in a tracklet must occur within 90 minutes or **0.0625 days**.\n",
    "* At least **3** tracklets must be observed to form a valid track.\n",
    "* These tracklets must be observed in less than **15** days.\n",
    "\n",
    "We also expect **95%** of objects to be linked. For now, we will set this parameter to 100% in order to test the others.\n",
    "\n",
    "These six parameters can be changed in the config file and are found in the [LINKINGFILTER] section."
   ]
  },
  {
   "cell_type": "code",
   "execution_count": null,
   "id": "63717ec9",
   "metadata": {},
   "outputs": [],
   "source": [
    "min_observations = 2\n",
    "min_angular_separation = 0.5\n",
    "max_time_separation = 0.0625\n",
    "min_tracklets = 3\n",
    "min_tracklet_window = 15\n",
    "detection_efficiency = 1"
   ]
  },
  {
   "cell_type": "markdown",
   "id": "71da27b5",
   "metadata": {},
   "source": [
    "Let's create an object that should definitely be linked according to these parameters."
   ]
  },
  {
   "cell_type": "code",
   "execution_count": null,
   "id": "6e11d0a6",
   "metadata": {},
   "outputs": [],
   "source": [
    "obj_id = [\"pretend_object\"] * 6\n",
    "field_id = np.arange(1, 7)\n",
    "times = [60000.03, 60000.06, 60005.03, 60005.06, 60008.03, 60008.06]\n",
    "ra = [142, 142.1, 143, 143.1, 144, 144.1]\n",
    "dec = [8, 8.1, 9, 9.1, 10, 10.1]"
   ]
  },
  {
   "cell_type": "code",
   "execution_count": null,
   "id": "e86569f3",
   "metadata": {},
   "outputs": [],
   "source": [
    "observations = pd.DataFrame(\n",
    "    {\n",
    "        \"ObjID\": obj_id,\n",
    "        \"FieldID\": field_id,\n",
    "        \"FieldMJD_TAI\": times,\n",
    "        \"AstRA(deg)\": ra,\n",
    "        \"AstDec(deg)\": dec\n",
    "    }\n",
    ")"
   ]
  },
  {
   "cell_type": "code",
   "execution_count": null,
   "id": "ad52ef60",
   "metadata": {},
   "outputs": [],
   "source": [
    "observations"
   ]
  },
  {
   "cell_type": "markdown",
   "id": "1f072739",
   "metadata": {},
   "source": [
    "Now let's run the linking filter. As this object should be linked, we should receive the same dataframe back."
   ]
  },
  {
   "cell_type": "code",
   "execution_count": null,
   "id": "5a53919a",
   "metadata": {},
   "outputs": [],
   "source": [
    "linked_observations = PPLinkingFilter(observations, detection_efficiency, min_observations, min_tracklets, min_tracklet_window, min_angular_separation, max_time_separation)"
   ]
  },
  {
   "cell_type": "code",
   "execution_count": null,
   "id": "4eba5dbd",
   "metadata": {},
   "outputs": [],
   "source": [
    "linked_observations"
   ]
  },
  {
   "cell_type": "markdown",
   "id": "0a22d57f",
   "metadata": {},
   "source": [
    "Success! The object was successfully linked. Now let's play with this dataframe a little. First, let's remove the first observation, so that we only have two complete tracklets."
   ]
  },
  {
   "cell_type": "code",
   "execution_count": null,
   "id": "e12bc6cb",
   "metadata": {},
   "outputs": [],
   "source": [
    "observations_two_tracklets = observations.iloc[1:].copy()"
   ]
  },
  {
   "cell_type": "code",
   "execution_count": null,
   "id": "d55e811b",
   "metadata": {},
   "outputs": [],
   "source": [
    "observations_two_tracklets"
   ]
  },
  {
   "cell_type": "code",
   "execution_count": null,
   "id": "ad62595d",
   "metadata": {},
   "outputs": [],
   "source": [
    "unlinked_observations = PPLinkingFilter(observations_two_tracklets, detection_efficiency, min_observations, min_tracklets, min_tracklet_window, min_angular_separation, max_time_separation)"
   ]
  },
  {
   "cell_type": "code",
   "execution_count": null,
   "id": "244674ae",
   "metadata": {},
   "outputs": [],
   "source": [
    "unlinked_observations"
   ]
  },
  {
   "cell_type": "markdown",
   "id": "d3c674db",
   "metadata": {},
   "source": [
    "As expected, we no longer link the object. Now let's try putting the last two observations outside of the 15-day window."
   ]
  },
  {
   "cell_type": "code",
   "execution_count": null,
   "id": "b255874d",
   "metadata": {},
   "outputs": [],
   "source": [
    "observations_large_window = observations.copy()\n",
    "observations_large_window['FieldMJD_TAI'] = [60000.03, 60000.06, 60005.03, 60005.06, 60016.03, 60016.06]"
   ]
  },
  {
   "cell_type": "code",
   "execution_count": null,
   "id": "30793769",
   "metadata": {},
   "outputs": [],
   "source": [
    "unlinked_observations = PPLinkingFilter(observations_large_window, detection_efficiency, min_observations, min_tracklets, min_tracklet_window, min_angular_separation, max_time_separation)"
   ]
  },
  {
   "cell_type": "code",
   "execution_count": null,
   "id": "b5d76bc4",
   "metadata": {},
   "outputs": [],
   "source": [
    "unlinked_observations"
   ]
  },
  {
   "cell_type": "markdown",
   "id": "efb1c433",
   "metadata": {},
   "source": [
    "Once again, we no longer link the object. What if we move the first two objects much closer to each other so that they no longer form a valid tracklet?"
   ]
  },
  {
   "cell_type": "code",
   "execution_count": null,
   "id": "27c63bee",
   "metadata": {},
   "outputs": [],
   "source": [
    "observations_small_sep = observations.copy()\n",
    "observations_small_sep[\"AstRA(deg)\"] = [142, 142.00001, 143, 143.1, 144, 144.1]\n",
    "observations_small_sep[\"AstDec(deg)\"] = [8, 8.00001, 9, 9.1, 10, 10.1]"
   ]
  },
  {
   "cell_type": "code",
   "execution_count": null,
   "id": "44202f53",
   "metadata": {},
   "outputs": [],
   "source": [
    "unlinked_observations = PPLinkingFilter(observations_small_sep, detection_efficiency, min_observations, min_tracklets, min_tracklet_window, min_angular_separation, max_time_separation)"
   ]
  },
  {
   "cell_type": "code",
   "execution_count": null,
   "id": "b9b07654",
   "metadata": {},
   "outputs": [],
   "source": [
    "unlinked_observations"
   ]
  },
  {
   "cell_type": "markdown",
   "id": "958670d0",
   "metadata": {},
   "source": [
    "And the object is no longer linked. Finally, let's move the first two observations much further apart in time so that they once again no longer form a valid tracklet."
   ]
  },
  {
   "cell_type": "code",
   "execution_count": null,
   "id": "8c781cdd",
   "metadata": {},
   "outputs": [],
   "source": [
    "observations_large_time = observations.copy()\n",
    "observations_large_time[\"FieldMJD_TAI\"] = [60000.03, 60000.10, 60005.03, 60005.06, 60008.03, 60008.06]"
   ]
  },
  {
   "cell_type": "code",
   "execution_count": null,
   "id": "8e4a3084",
   "metadata": {},
   "outputs": [],
   "source": [
    "unlinked_observations = PPLinkingFilter(observations_large_time, detection_efficiency, min_observations, min_tracklets, min_tracklet_window, min_angular_separation, max_time_separation)"
   ]
  },
  {
   "cell_type": "code",
   "execution_count": null,
   "id": "ad58262a",
   "metadata": {},
   "outputs": [],
   "source": [
    "unlinked_observations"
   ]
  },
  {
   "cell_type": "markdown",
   "id": "a3563628",
   "metadata": {},
   "source": [
    "And as expected, we no longer link the object."
   ]
  },
  {
   "cell_type": "markdown",
   "id": "aaa9b57f",
   "metadata": {},
   "source": [
    "Finally, let's check that the detection efficiency works as expected. Let's set it to 0.95."
   ]
  },
  {
   "cell_type": "code",
   "execution_count": null,
   "id": "63c1af68",
   "metadata": {},
   "outputs": [],
   "source": [
    "detection_efficiency = 0.95"
   ]
  },
  {
   "cell_type": "markdown",
   "id": "0550889e",
   "metadata": {},
   "source": [
    "Now let's make a dataframe of the same linked object repeated 10000 times."
   ]
  },
  {
   "cell_type": "code",
   "execution_count": null,
   "id": "4dabec71",
   "metadata": {},
   "outputs": [],
   "source": [
    "objs = [[\"pretend_object_\" + str(a)] * 6 for a in range(0, 10000)]\n",
    "obj_id_long = [item for sublist in objs for item in sublist]\n",
    "field_id_long = list(np.arange(1, 7)) * 10000\n",
    "times_long = [60000.03, 60000.06, 60005.03, 60005.06, 60008.03, 60008.06] * 10000\n",
    "ra_long = [142, 142.1, 143, 143.1, 144, 144.1] * 10000\n",
    "dec_long = [8, 8.1, 9, 9.1, 10, 10.1] * 10000"
   ]
  },
  {
   "cell_type": "code",
   "execution_count": null,
   "id": "44c361dd",
   "metadata": {},
   "outputs": [],
   "source": [
    "observations_long = pd.DataFrame(\n",
    "    {\n",
    "        \"ObjID\": obj_id_long,\n",
    "        \"FieldID\": field_id_long,\n",
    "        \"FieldMJD_TAI\": times_long,\n",
    "        \"AstRA(deg)\": ra_long,\n",
    "        \"AstDec(deg)\": dec_long\n",
    "    }\n",
    ")"
   ]
  },
  {
   "cell_type": "code",
   "execution_count": null,
   "id": "03d7a84e",
   "metadata": {},
   "outputs": [],
   "source": [
    "observations_long"
   ]
  },
  {
   "cell_type": "markdown",
   "id": "53aa9cc8",
   "metadata": {},
   "source": [
    "If detection efficiency were perfect, all of these objects would be linked. However, it is not. We have set the detection efficency to 0.95, so we should expect to return roughly 95% of these objects from the linking filter. Let's find out."
   ]
  },
  {
   "cell_type": "code",
   "execution_count": null,
   "id": "91c66b5b",
   "metadata": {},
   "outputs": [],
   "source": [
    "long_linked_observations = PPLinkingFilter(observations_long, detection_efficiency, min_observations, min_tracklets, min_tracklet_window, min_angular_separation, max_time_separation)"
   ]
  },
  {
   "cell_type": "code",
   "execution_count": null,
   "id": "67fd3968",
   "metadata": {},
   "outputs": [],
   "source": [
    "long_linked_observations"
   ]
  },
  {
   "cell_type": "code",
   "execution_count": null,
   "id": "095033ec",
   "metadata": {},
   "outputs": [],
   "source": [
    "len(long_linked_observations[\"ObjID\"].unique())/10000"
   ]
  },
  {
   "cell_type": "markdown",
   "id": "434d7970",
   "metadata": {},
   "source": [
    "This is close enough - the detection efficiency is stochastic, so some variation is to be expected."
   ]
  }
 ],
 "metadata": {
  "kernelspec": {
   "display_name": "Python 3 (ipykernel)",
   "language": "python",
   "name": "python3"
  },
  "language_info": {
   "codemirror_mode": {
    "name": "ipython",
    "version": 3
   },
   "file_extension": ".py",
   "mimetype": "text/x-python",
   "name": "python",
   "nbconvert_exporter": "python",
   "pygments_lexer": "ipython3",
   "version": "3.10.12"
  }
 },
 "nbformat": 4,
 "nbformat_minor": 5
}

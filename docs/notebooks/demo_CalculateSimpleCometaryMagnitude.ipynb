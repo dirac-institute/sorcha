{
 "cells": [
  {
   "cell_type": "markdown",
   "id": "8bcee69f",
   "metadata": {},
   "source": [
    "# Calculate Simple Cometary Magnitude"
   ]
  },
  {
   "cell_type": "code",
   "execution_count": null,
   "id": "097df876",
   "metadata": {},
   "outputs": [],
   "source": [
    "import numpy as np\n",
    "import pandas as pd\n",
    "import astropy.units as u\n",
    "from sorcha.lsstcomet import Comet\n",
    "from sbpy.activity import Afrho\n",
    "import synphot\n",
    "\n",
    "from sorcha.modules.PPCalculateSimpleCometaryMagnitude import PPCalculateSimpleCometaryMagnitude"
   ]
  },
  {
   "cell_type": "markdown",
   "id": "e069ed2c",
   "metadata": {},
   "source": [
    "The lsstcomet code used by sorcha validates its results by comparing them to the cometary magnitude calculated by sbpy. We will do the same.\n",
    "\n",
    "First, calculating using sbpy:"
   ]
  },
  {
   "cell_type": "code",
   "execution_count": null,
   "id": "31c567b0",
   "metadata": {},
   "outputs": [],
   "source": [
    "g = {'rh': 2.0 * u.au, 'delta': 1.0 * u.au, 'phase': 0 * u.deg}\n",
    "afrho = Afrho(100 * 2**-2, 'cm')\n",
    "tab = np.loadtxt('lsst-total-r.dat').T\n",
    "r = synphot.SpectralElement(synphot.Empirical1D, points=tab[0] * u.nm,\n",
    "                            lookup_table=tab[1])\n",
    "rap = 1 * u.arcsec\n",
    "m0 = afrho.to_fluxd(r, rap, g, unit=u.ABmag).value\n",
    "\n",
    "comet = Comet(R=1, afrho1=100, k=-2)\n",
    "m = comet.mag(g, 'r', rap=rap.value, nucleus=False)\n",
    "\n",
    "m_sbpy = -2.5 * np.log10(10 ** (-0.4 * m) + 10 ** (-0.4 * 7.3))"
   ]
  },
  {
   "cell_type": "markdown",
   "id": "49a0f00a",
   "metadata": {},
   "source": [
    "Now a test dataset must be created using the same values."
   ]
  },
  {
   "cell_type": "code",
   "execution_count": null,
   "id": "3adf58a6",
   "metadata": {},
   "outputs": [],
   "source": [
    "test_dict = {'MJD': [2459215.5],\n",
    "              'H_r': [7.3],\n",
    "              'AstRange(km)': [1. * 1.495978707e8],\n",
    "              'Ast-Sun(km)': [2. * 1.495978707e8],\n",
    "              'Sun-Ast-Obs(deg)': [0],\n",
    "              'afrho1': [100],\n",
    "              'q':[1. * 1.495978707e8],\n",
    "              'k':[-2],\n",
    "              'optFilter':'r'}\n",
    "\n",
    "test_data = pd.DataFrame(test_dict)"
   ]
  },
  {
   "cell_type": "markdown",
   "id": "f8f2771c",
   "metadata": {},
   "source": [
    "Calculating cometary apparent magnitude using the SSPP function and comparing:"
   ]
  },
  {
   "cell_type": "code",
   "execution_count": null,
   "id": "bc84f4e2",
   "metadata": {},
   "outputs": [],
   "source": [
    "test_data = PPCalculateSimpleCometaryMagnitude(test_data.copy(), 'r', '')"
   ]
  },
  {
   "cell_type": "code",
   "execution_count": null,
   "id": "41d59815",
   "metadata": {},
   "outputs": [],
   "source": [
    "m_sspp = test_data['TrailedSourceMag']"
   ]
  },
  {
   "cell_type": "code",
   "execution_count": null,
   "id": "0451e0ac",
   "metadata": {},
   "outputs": [],
   "source": [
    "assert np.isclose(m_sspp, m_sbpy, atol=0.05)"
   ]
  }
 ],
 "metadata": {
  "kernelspec": {
   "display_name": "Python 3 (ipykernel)",
   "language": "python",
   "name": "python3"
  },
  "language_info": {
   "codemirror_mode": {
    "name": "ipython",
    "version": 3
   },
   "file_extension": ".py",
   "mimetype": "text/x-python",
   "name": "python",
   "nbconvert_exporter": "python",
   "pygments_lexer": "ipython3",
   "version": "3.10.12"
  }
 },
 "nbformat": 4,
 "nbformat_minor": 5
}

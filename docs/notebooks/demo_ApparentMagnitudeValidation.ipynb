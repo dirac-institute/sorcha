{
 "cells": [
  {
   "cell_type": "markdown",
   "id": "c93503c5",
   "metadata": {},
   "source": [
    "# Apparent Magnitude Validation"
   ]
  },
  {
   "cell_type": "code",
   "execution_count": null,
   "id": "fc4ba06a",
   "metadata": {},
   "outputs": [],
   "source": [
    "import pandas as pd\n",
    "import numpy as np\n",
    "import astropy.units as u\n",
    "from astroquery.jplhorizons import Horizons\n",
    "from sorcha.modules.PPCalculateApparentMagnitudeInFilter import PPCalculateApparentMagnitudeInFilter\n",
    "import matplotlib.pyplot as plt"
   ]
  },
  {
   "cell_type": "markdown",
   "id": "2f79bca5",
   "metadata": {},
   "source": [
    "To test the calculation of the apparent magnitude in the code, we can compare them to the apparent magnitudes calculated by JPL Horizons.\n",
    "\n",
    "First, let's get the JPL Horizons ephemeris for a test object. PPCalculateApparentMagnitudeInFilter uses sbpy's photometry module to calculate phase functions, and sbpy's unit tests use 24 Themis as a test object. We will do the same."
   ]
  },
  {
   "cell_type": "code",
   "execution_count": null,
   "id": "3e52682b",
   "metadata": {},
   "outputs": [],
   "source": [
    "obj = Horizons(id='Themis', id_type='name', location='I11',\n",
    "\n",
    "               epochs={'start':'2021-01-01', 'stop':'2023-01-01',\n",
    "\n",
    "                       'step':'1d'})\n",
    "\n",
    "eph = obj.ephemerides(quantities='9,19,20,43')\n",
    "jpl_eph = eph.to_pandas()\n",
    "jpl_eph"
   ]
  },
  {
   "cell_type": "markdown",
   "id": "dd680ba1",
   "metadata": {},
   "source": [
    "This needs to be turned into a form the function can understand. Values for G1, G2 and G12 are from Muinonen et al. (2010)."
   ]
  },
  {
   "cell_type": "code",
   "execution_count": null,
   "id": "46fc0914",
   "metadata": {},
   "outputs": [],
   "source": [
    "observations_df = pd.DataFrame({'MJD':jpl_eph['datetime_jd'],\n",
    "                                'H_filter': jpl_eph['H'],\n",
    "                                'GS': jpl_eph['G'],\n",
    "                                'G1': np.zeros(len(jpl_eph['G'])) + 0.62,\n",
    "                                'G2': np.zeros(len(jpl_eph['G'])) + 0.14,\n",
    "                                'G12': np.zeros(len(jpl_eph['G'])) + 0.68,\n",
    "                                'JPL_mag': jpl_eph['V'],\n",
    "                                'AstRange(km)': jpl_eph['r'] * 1.495978707e8,\n",
    "                                'Ast-Sun(km)': jpl_eph['delta'] * 1.495978707e8,\n",
    "                                'Sun-Ast-Obs(deg)': jpl_eph['alpha_true']})"
   ]
  },
  {
   "cell_type": "code",
   "execution_count": null,
   "id": "99156011",
   "metadata": {},
   "outputs": [],
   "source": [
    "observations_df"
   ]
  },
  {
   "cell_type": "markdown",
   "id": "191c5e0f",
   "metadata": {},
   "source": [
    "Now we calculate the magnitude using the various models in PPCalculateApparentMagnitudeInFilter."
   ]
  },
  {
   "cell_type": "code",
   "execution_count": null,
   "id": "69cc1794",
   "metadata": {},
   "outputs": [],
   "source": [
    "observations_df = PPCalculateApparentMagnitudeInFilter(observations_df.copy(), 'HG', 'r', 'HG_mag')\n",
    "observations_df = PPCalculateApparentMagnitudeInFilter(observations_df.copy(), 'HG12', 'r', 'HG12_mag')\n",
    "observations_df = PPCalculateApparentMagnitudeInFilter(observations_df.copy(), 'HG1G2', 'r', 'HG1G2_mag')"
   ]
  },
  {
   "cell_type": "code",
   "execution_count": null,
   "id": "89e840e0",
   "metadata": {},
   "outputs": [],
   "source": [
    "observations_df"
   ]
  },
  {
   "cell_type": "markdown",
   "id": "ba9e4dec",
   "metadata": {},
   "source": [
    "Now we can plot the magnitudes and compare them.\n",
    "\n",
    "Note that we do not expect any of the calculated magnitudes to match JPL Horizons exactly. JPL Horizons uses the IAU simplification of the HG model to calculate apparent magnitude, while sbpy uses the original HG formulation from Bowell et al. (1989). However, they should all be a close match."
   ]
  },
  {
   "cell_type": "code",
   "execution_count": null,
   "id": "a40763e1",
   "metadata": {},
   "outputs": [],
   "source": [
    "fig, ax = plt.subplots(figsize=(10,8))\n",
    "ax.plot(observations_df[\"MJD\"] - 2459000, observations_df[\"JPL_mag\"], linestyle=\"\", marker=\"x\", label=\"JPL\")\n",
    "ax.plot(observations_df[\"MJD\"] - 2459000, observations_df[\"HG_mag\"], label=\"HG\")\n",
    "ax.plot(observations_df[\"MJD\"] - 2459000, observations_df[\"HG12_mag\"], label=\"HG12\")\n",
    "ax.plot(observations_df[\"MJD\"] - 2459000, observations_df[\"HG1G2_mag\"], label=\"HG1G2\")\n",
    "ax.legend()\n",
    "ax.set_xlabel(\"MJD - 2459000\")\n",
    "ax.set_ylabel(\"apparent magnitude\")\n",
    "ax.set_ylim((11.75, 14))"
   ]
  },
  {
   "cell_type": "markdown",
   "id": "f7db4560",
   "metadata": {},
   "source": [
    "To test the linear phase function model, we simply define a slope. We will use the same values for Themis and arbitrarily choose S to be 0.04."
   ]
  },
  {
   "cell_type": "code",
   "execution_count": null,
   "id": "c4828b4a",
   "metadata": {},
   "outputs": [],
   "source": [
    "H = observations_df['H_filter'].values\n",
    "alpha = observations_df['Sun-Ast-Obs(deg)'].values\n",
    "r = observations_df['AstRange(km)'].values / 1.495978707e8\n",
    "delta = observations_df['Ast-Sun(km)'].values / 1.495978707e8\n",
    "S = np.zeros(len(H)) + 0.04\n",
    "\n",
    "observations_df[\"S\"] = S"
   ]
  },
  {
   "cell_type": "markdown",
   "id": "250e3f6f",
   "metadata": {},
   "source": [
    "The expected apparent magnitude will thus take the form:\n",
    "\n",
    "$m = H + 5 \\log_{10}(\\Delta) + 5 \\log_{10}(r) + S\\alpha$"
   ]
  },
  {
   "cell_type": "code",
   "execution_count": null,
   "id": "87743497",
   "metadata": {},
   "outputs": [],
   "source": [
    "linear_mag_calc = 5. * np.log10(delta) + 5. * np.log10(r) + H + (S * alpha)"
   ]
  },
  {
   "cell_type": "markdown",
   "id": "2d99f8b5",
   "metadata": {},
   "source": [
    "Calculating using the linear phase function model in PPCalculateApparentMagnitudeInFilter..."
   ]
  },
  {
   "cell_type": "code",
   "execution_count": null,
   "id": "c097038b",
   "metadata": {},
   "outputs": [],
   "source": [
    "observations_df = PPCalculateApparentMagnitudeInFilter(observations_df.copy(), 'linear', 'r', 'linear_mag')"
   ]
  },
  {
   "cell_type": "code",
   "execution_count": null,
   "id": "358cfd19",
   "metadata": {},
   "outputs": [],
   "source": [
    "fig, ax = plt.subplots(figsize=(10,8))\n",
    "ax.plot(observations_df[\"MJD\"] - 2459000, linear_mag_calc, linestyle=\"\", marker=\"x\", label=\"calculated\")\n",
    "ax.plot(observations_df[\"MJD\"] - 2459000, observations_df[\"linear_mag\"], label=\"function\")\n",
    "ax.legend()\n",
    "ax.set_xlabel(\"MJD - 2459000\")\n",
    "ax.set_ylabel(\"apparent magnitude\")\n",
    "ax.set_ylim((11.75, 14))"
   ]
  }
 ],
 "metadata": {
  "kernelspec": {
   "display_name": "Python 3 (ipykernel)",
   "language": "python",
   "name": "python3"
  },
  "language_info": {
   "codemirror_mode": {
    "name": "ipython",
    "version": 3
   },
   "file_extension": ".py",
   "mimetype": "text/x-python",
   "name": "python",
   "nbconvert_exporter": "python",
   "pygments_lexer": "ipython3",
   "version": "3.10.12"
  }
 },
 "nbformat": 4,
 "nbformat_minor": 5
}

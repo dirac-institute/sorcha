{
 "cells": [
  {
   "cell_type": "markdown",
   "metadata": {
    "tags": []
   },
   "source": [
    "# Detection Efficiency Filter Demo\n",
    "\n",
    "This notebook demonstrates the detection efficiency/fading function filter."
   ]
  },
  {
   "cell_type": "code",
   "execution_count": null,
   "metadata": {},
   "outputs": [],
   "source": [
    "from sorcha.modules import PPFootprintFilter as fp\n",
    "from sorcha.modules import PPFadingFunctionFilter as ff\n",
    "from sorcha.modules.PPModuleRNG import PerModuleRNG"
   ]
  },
  {
   "cell_type": "code",
   "execution_count": null,
   "metadata": {},
   "outputs": [],
   "source": [
    "import pandas as pd\n",
    "import sqlite3 as sql\n",
    "import matplotlib.pyplot as plt\n",
    "import numpy as np\n",
    "import os"
   ]
  },
  {
   "cell_type": "code",
   "execution_count": null,
   "metadata": {},
   "outputs": [],
   "source": [
    "def getSqlData(database,rows_start,nrows):\n",
    "    \"\"\"Import dataset from local SQL database\n",
    "    \n",
    "    Parameters:\n",
    "    -----------\n",
    "    database   ... path to database\n",
    "    rows_start ... number of row to start\n",
    "    rows_max   ... number of rows to select\n",
    "    \n",
    "    Returns:\n",
    "    --------\n",
    "    observations ... pandas dataframe containing observations from JPL database\n",
    "    \"\"\"\n",
    "    con = sql.connect(database)\n",
    "    observations = pd.read_sql(\"\"\"SELECT *, observationStartMJD as observationStartMJD_TAI FROM observations LIMIT \"\"\"+str(rows_start)+','+str(nrows), con)\n",
    "    return observations"
   ]
  },
  {
   "cell_type": "code",
   "execution_count": null,
   "metadata": {},
   "outputs": [],
   "source": [
    "def randobs(ronsky=3,ra=180,dec=45, n=100000):\n",
    "\n",
    "    \"\"\"Create random observations centered on RA, Dec with radius r.\n",
    "    Random observations are generated correctly only for declinations < dec+r.\n",
    "    \n",
    "    Parameters:\n",
    "    ------------\n",
    "    ronksy ... on sky radius [deg]\n",
    "    ra     ... Right Ascension of center [deg]\n",
    "    dec    ... Declination of center\n",
    "    \n",
    "    Returns:\n",
    "    --------\n",
    "    raout ... Right Ascension of fake observations\n",
    "    decout ... Declination of fake observations\n",
    "    \n",
    "    \"\"\"\n",
    "    # radius of the circle\n",
    "    # center of the circle (x, y)\n",
    "    # random angle\n",
    "    \n",
    "    rnd1=np.random.rand(n)\n",
    "    rnd2=np.random.rand(n)\n",
    "    \n",
    "    alpha = 2 * np.pi * rnd1\n",
    "    # random radius\n",
    "    r = ronsky * np.sqrt(rnd2)\n",
    "    # calculating coordinates\n",
    "    raout = r * np.cos(alpha) + ra\n",
    "    decout = r * np.sin(alpha) + dec\n",
    "    \n",
    "    return np.mod(raout+360,360),decout"
   ]
  },
  {
   "cell_type": "markdown",
   "metadata": {},
   "source": [
    "## Import LSST Opsim database \n",
    "This database contains LSST pointings and environmental information such as seeing.\n"
   ]
  },
  {
   "cell_type": "code",
   "execution_count": null,
   "metadata": {
    "tags": []
   },
   "outputs": [],
   "source": [
    "db_path=\"oneline_v2.0.db\""
   ]
  },
  {
   "cell_type": "markdown",
   "metadata": {},
   "source": [
    "Select the first exposure of the LSST survey and initialise number of simulated detections."
   ]
  },
  {
   "cell_type": "code",
   "execution_count": null,
   "metadata": {},
   "outputs": [],
   "source": [
    "LSSTdf=getSqlData(db_path,0,1)\n",
    "rng=PerModuleRNG(2021)\n",
    "nobs_per_field=1000000"
   ]
  },
  {
   "cell_type": "code",
   "execution_count": null,
   "metadata": {},
   "outputs": [],
   "source": [
    "LSSTdf"
   ]
  },
  {
   "cell_type": "markdown",
   "metadata": {},
   "source": [
    "Some random measurements are then created."
   ]
  },
  {
   "cell_type": "code",
   "execution_count": null,
   "metadata": {},
   "outputs": [],
   "source": [
    "magbins=[]\n",
    "i=22.0\n",
    "while(i<=26.0):\n",
    "    magbins.append(i)\n",
    "    i=i+0.05\n",
    "\n",
    "rao,deco=randobs(ronsky=2.5,ra=LSSTdf['fieldRA'][0],dec=LSSTdf['fieldDec'][0],n=nobs_per_field)\n",
    "dfobs0=pd.DataFrame(np.array([rao,deco]).T,columns=['AstRA(deg)','AstDec(deg)'])\n",
    "dfobs0['FieldMJD_TAI']=LSSTdf['observationStartMJD_TAI'][0]\n",
    "dfobs0['FieldID']=LSSTdf['observationId'][0]"
   ]
  },
  {
   "cell_type": "code",
   "execution_count": null,
   "metadata": {},
   "outputs": [],
   "source": [
    "dfobs0"
   ]
  },
  {
   "cell_type": "markdown",
   "metadata": {},
   "source": [
    "## Create magnitudes"
   ]
  },
  {
   "cell_type": "code",
   "execution_count": null,
   "metadata": {},
   "outputs": [],
   "source": [
    "mags=np.arange(nobs_per_field)\n",
    "mags=np.random.uniform(22.0,26.0,len(dfobs0))\n",
    "dfobs = pd.merge(dfobs0, LSSTdf, left_on=\"FieldID\", right_on=\"observationId\", how=\"left\")\n",
    "\n",
    "# Match keywords\n",
    "dfobs['observedPSFMag'] = mags\n",
    "dfobs['fiveSigmaDepthAtSource']=dfobs['fiveSigmaDepth']\n"
   ]
  },
  {
   "cell_type": "code",
   "execution_count": null,
   "metadata": {},
   "outputs": [],
   "source": [
    "mags"
   ]
  },
  {
   "cell_type": "code",
   "execution_count": null,
   "metadata": {},
   "outputs": [],
   "source": [
    "dfobs['observedPSFMag']"
   ]
  },
  {
   "cell_type": "code",
   "execution_count": null,
   "metadata": {},
   "outputs": [],
   "source": [
    "dfobs"
   ]
  },
  {
   "cell_type": "code",
   "execution_count": null,
   "metadata": {},
   "outputs": [],
   "source": [
    "magcounts,magpins=np.histogram(dfobs['observedPSFMag'],bins=magbins)\n",
    "\n",
    "reduced_dfobs=ff.PPFadingFunctionFilter(dfobs, 1.0, 0.1, rng)\n",
    "\n",
    "redmagcounts,redmagbins=np.histogram(reduced_dfobs['observedPSFMag'],bins=magbins)\n",
    "\n",
    "res=redmagcounts/magcounts\n",
    "\n",
    "fiveSigma=dfobs.fiveSigmaDepthAtSource.values[0]\n",
    "\n",
    "restheor=[]\n",
    "i=0\n",
    "while(i<len(magbins)):\n",
    "    a=1./(1.+np.exp((magbins[i]-fiveSigma)/.1))\n",
    "    restheor.append(a)\n",
    "    i=i+1\n",
    "\n",
    "plt.clf()\n",
    "plt.scatter(magpins[:-1]+0.025,res)\n",
    "plt.plot(magbins,restheor, 'r-')\n",
    "plt.xlabel('Magnitude')\n",
    "plt.ylabel('Observed fraction')\n",
    "#plt.savefig('deteff_.jpg', bbox_inches='tight')\n",
    "plt.show()\n",
    "\n"
   ]
  }
 ],
 "metadata": {
  "@webio": {
   "lastCommId": null,
   "lastKernelId": null
  },
  "kernelspec": {
   "display_name": "Python 3 (ipykernel)",
   "language": "python",
   "name": "python3"
  },
  "language_info": {
   "codemirror_mode": {
    "name": "ipython",
    "version": 3
   },
   "file_extension": ".py",
   "mimetype": "text/x-python",
   "name": "python",
   "nbconvert_exporter": "python",
   "pygments_lexer": "ipython3",
   "version": "3.10.12"
  }
 },
 "nbformat": 4,
 "nbformat_minor": 4
}

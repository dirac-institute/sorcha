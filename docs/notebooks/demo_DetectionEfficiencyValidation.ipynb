{
 "cells": [
  {
   "cell_type": "markdown",
   "metadata": {
    "tags": []
   },
   "source": [
    "# Detection Efficiency Filter Demo\n",
    "\n",
    "This notebook demonstrates the detection efficiency/fading function filter. The equation for the fading function is taken from Veres & Chesley (2017):\n",
    "\n",
    "$$\n",
    "\\epsilon(m) = \\frac{F}{1 + e^\\frac{m-m_{5\\sigma}}{w}}\n",
    "$$\n",
    "\n",
    "where $\\epsilon(m)$ is the probability of detection, $F$ is the peak detection efficiency, $m$ and $m_{5\\sigma}$ are respectively the observed magnitude and $5\\sigma$ limiting magnitude of the pointing, and $w$ is the width of the fading function."
   ]
  },
  {
   "cell_type": "code",
   "execution_count": null,
   "metadata": {},
   "outputs": [],
   "source": [
    "from sorcha.modules.PPFadingFunctionFilter import PPFadingFunctionFilter\n",
    "from sorcha.modules.PPModuleRNG import PerModuleRNG"
   ]
  },
  {
   "cell_type": "code",
   "execution_count": null,
   "metadata": {},
   "outputs": [],
   "source": [
    "import pandas as pd\n",
    "import matplotlib.pyplot as plt\n",
    "import numpy as np"
   ]
  },
  {
   "cell_type": "markdown",
   "metadata": {},
   "source": [
    "## Create a dataframe of synthetic observations"
   ]
  },
  {
   "cell_type": "markdown",
   "metadata": {},
   "source": [
    "Only the apparent magnitude and the five-sigma limiting depth are needed for this. For simplicity, we will set the five-sigma limiting depth to be constant for all observations."
   ]
  },
  {
   "cell_type": "code",
   "execution_count": null,
   "metadata": {},
   "outputs": [],
   "source": [
    "nobs_per_field = 1000000"
   ]
  },
  {
   "cell_type": "code",
   "execution_count": null,
   "metadata": {},
   "outputs": [],
   "source": [
    "mags = np.random.uniform(23.0, 26.0, nobs_per_field)\n",
    "five_sigma = np.zeros(nobs_per_field) + 24.5\n",
    "random_obs = pd.DataFrame({\"PSFMag\":mags, \"fiveSigmaDepth_mag\":five_sigma})"
   ]
  },
  {
   "cell_type": "code",
   "execution_count": null,
   "metadata": {},
   "outputs": [],
   "source": [
    "random_obs"
   ]
  },
  {
   "cell_type": "markdown",
   "metadata": {},
   "source": [
    "We can apply the fading function filter implementation in Sorcha to the randomised observations."
   ]
  },
  {
   "cell_type": "code",
   "execution_count": null,
   "metadata": {},
   "outputs": [],
   "source": [
    "peak_efficiency = 1.0\n",
    "width = 0.1\n",
    "rng=PerModuleRNG(2021)\n",
    "reduced_obs = PPFadingFunctionFilter(random_obs, peak_efficiency, width, rng)"
   ]
  },
  {
   "cell_type": "markdown",
   "metadata": {},
   "source": [
    "Now we calculate the probabilty of each observation to survive Sorcha's fading function filter, binned by magnitude."
   ]
  },
  {
   "cell_type": "code",
   "execution_count": null,
   "metadata": {},
   "outputs": [],
   "source": [
    "bin_width = 0.04\n",
    "magbins = np.arange(23.0, 26.0, bin_width)\n",
    "\n",
    "magcounts, _ = np.histogram(random_obs['PSFMag'].values, bins=magbins)\n",
    "\n",
    "redmagcounts, _ = np.histogram(reduced_obs['PSFMag'].values, bins=magbins)\n",
    "\n",
    "sorcha_probability = redmagcounts/magcounts"
   ]
  },
  {
   "cell_type": "markdown",
   "metadata": {},
   "source": [
    "And we can compare this to the calculated detection probability of each magnitude bin, using Equation One."
   ]
  },
  {
   "cell_type": "code",
   "execution_count": null,
   "metadata": {},
   "outputs": [],
   "source": [
    "calculated_probability = peak_efficiency / (1.0 + np.exp((magbins - 24.5) / width))"
   ]
  },
  {
   "cell_type": "code",
   "execution_count": null,
   "metadata": {},
   "outputs": [],
   "source": [
    "fig, ax = plt.subplots(1, figsize=(8, 6))\n",
    "ax.bar(magbins[:-1], sorcha_probability, align=\"edge\", width=bin_width, color=\"mediumaquamarine\", label=\"Sorcha detection probability\")\n",
    "ax.set_ylim((0, 1.1))\n",
    "ax.set_xlim((23, 26)) \n",
    "ax.set_xlabel(\"PSF magnitude\")\n",
    "ax.set_ylabel(\"detection probability\")\n",
    "ax.plot(magbins, calculated_probability, color=\"darkslateblue\", label=\"calculated detection probability\")\n",
    "ax.legend()\n",
    "plt.show()"
   ]
  },
  {
   "cell_type": "markdown",
   "metadata": {},
   "source": [
    "Sorcha's detection probability clearly follows the expected curve."
   ]
  },
  {
   "cell_type": "markdown",
   "metadata": {},
   "source": [
    "We can also take a look at how the fading function/detection efficiency changes with parameters."
   ]
  },
  {
   "cell_type": "code",
   "execution_count": null,
   "metadata": {},
   "outputs": [],
   "source": [
    "def deteff(mags, fivesig, peak, width):\n",
    "    return peak / (1.0 + np.exp((mags - fivesig) / width))"
   ]
  },
  {
   "cell_type": "code",
   "execution_count": null,
   "metadata": {},
   "outputs": [],
   "source": [
    "colors = plt.get_cmap('gnuplot', 3)\n",
    "x = colors(np.arange(0,3,1))"
   ]
  },
  {
   "cell_type": "code",
   "execution_count": null,
   "metadata": {},
   "outputs": [],
   "source": [
    "widths = [0.05, 0.1, 0.15]\n",
    "colors = [\"tomato\", \"darkslateblue\", \"mediumturquoise\"]\n",
    "styles = [\"solid\", \"dotted\", \"dashed\"]"
   ]
  },
  {
   "cell_type": "code",
   "execution_count": null,
   "metadata": {},
   "outputs": [],
   "source": [
    "fig, ax = plt.subplots(1, figsize=(8, 6))\n",
    "\n",
    "ax.axvline(24.5, 0, 1, linestyle=\"-\", alpha=0.5, color=\"grey\", linewidth=0.8)\n",
    "ax.axhline(0.5, 0, 1, linestyle=\"-\", alpha=0.5, color=\"grey\", linewidth=0.8)\n",
    "\n",
    "for i, width in enumerate(widths):\n",
    "    y = deteff(magbins, 24.5, 1., width)\n",
    "    ax.plot(magbins, y, color=colors[i], linestyle=styles[i], label=f\"$F = $ 1.0, $w = {width}$\")\n",
    "\n",
    "y = deteff(magbins, 24.5, .9, 0.1)\n",
    "ax.plot(magbins, y, color=\"mediumpurple\", linestyle=\"dashdot\", label=f\"$F = $ 0.9, $w = {width}$\")\n",
    "\n",
    "ax.set_xlim((23, 26))\n",
    "ax.legend()\n",
    "ax.set_xlabel(\"PSF magnitude\")\n",
    "ax.set_ylabel(\"detection probability\")\n",
    "\n",
    "fig.tight_layout()\n",
    "plt.show()"
   ]
  }
 ],
 "metadata": {
  "@webio": {
   "lastCommId": null,
   "lastKernelId": null
  },
  "kernelspec": {
   "display_name": "Python 3 (ipykernel)",
   "language": "python",
   "name": "python3"
  },
  "language_info": {
   "codemirror_mode": {
    "name": "ipython",
    "version": 3
   },
   "file_extension": ".py",
   "mimetype": "text/x-python",
   "name": "python",
   "nbconvert_exporter": "python",
   "pygments_lexer": "ipython3",
   "version": "3.11.12"
  }
 },
 "nbformat": 4,
 "nbformat_minor": 4
}
